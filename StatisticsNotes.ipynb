{
  "nbformat": 4,
  "nbformat_minor": 0,
  "metadata": {
    "colab": {
      "provenance": [],
      "authorship_tag": "ABX9TyNe0VzPx4gHj0tzmK6JGQ5y",
      "include_colab_link": true
    },
    "kernelspec": {
      "name": "python3",
      "display_name": "Python 3"
    },
    "language_info": {
      "name": "python"
    }
  },
  "cells": [
    {
      "cell_type": "markdown",
      "metadata": {
        "id": "view-in-github",
        "colab_type": "text"
      },
      "source": [
        "<a href=\"https://colab.research.google.com/github/KARTIKPARATKAR/MACHINE-LEARNING-WORK/blob/main/StatisticsNotes.ipynb\" target=\"_parent\"><img src=\"https://colab.research.google.com/assets/colab-badge.svg\" alt=\"Open In Colab\"/></a>"
      ]
    },
    {
      "cell_type": "markdown",
      "source": [
        "**Statistics** - It is a science for developing and studying methods for collecting,analysing,interpreting and presenting data."
      ],
      "metadata": {
        "id": "H0ywtP3_k4Ak"
      }
    },
    {
      "cell_type": "markdown",
      "source": [
        "Statistical Measures:\n",
        "Range,\n",
        "Mean,\n",
        "Standard Deviation."
      ],
      "metadata": {
        "id": "DJnr5-QLk9dN"
      }
    },
    {
      "cell_type": "markdown",
      "source": [
        "Data are of 2 types:\n",
        "Categorical and numerical.\n"
      ],
      "metadata": {
        "id": "GxYtMfggoTlx"
      }
    },
    {
      "cell_type": "markdown",
      "source": [
        "Nominal categorical data- colors,genders,etc"
      ],
      "metadata": {
        "id": "xp0drTU6o42g"
      }
    },
    {
      "cell_type": "markdown",
      "source": [
        "Ordinal Categorical data- Good,Better,Best. This ordinal categorical data can be encoded numerically by giving - 1-Good,2-Better,3-Best."
      ],
      "metadata": {
        "id": "yi7Vkuv2o_4F"
      }
    },
    {
      "cell_type": "markdown",
      "source": [
        "Discrete Numeric Data- Number of Laptops Sold: 5, 10, 15, 20...\n",
        "Number of Students in a Class: 25, 30, 40...\n",
        "Dice Roll Outcomes: 1, 2, 3, 4, 5, 6 etc.\n"
      ],
      "metadata": {
        "id": "cXtLZe3epjdG"
      }
    },
    {
      "cell_type": "markdown",
      "source": [
        "Continuous Numeric Data: Laptop Price: $50,499.99, $60,250.75, etc.\n",
        "Laptop Weight: 1.25 kg, 1.8 kg, 2.45 kg, etc.\n",
        "Screen Size: 13.3 inches, 14 inches, 15.6 inches, etc.\n",
        "It can take values in decimal and in any range."
      ],
      "metadata": {
        "id": "N5RMbitQp50W"
      }
    },
    {
      "cell_type": "markdown",
      "source": [
        "Descriptive Statistics: Descriptive statistics summarizes and presents data in a meaningful way using measures like mean, median, mode, and standard deviation."
      ],
      "metadata": {
        "id": "YnVnUU7TqXQf"
      }
    },
    {
      "cell_type": "markdown",
      "source": [
        "Inferential Statistics:Inferential statistics makes predictions or inferences about a larger population based on a sample dataset using probability and hypothesis testing."
      ],
      "metadata": {
        "id": "RuSPia6CrFK8"
      }
    },
    {
      "cell_type": "markdown",
      "source": [
        "Sample Statistical Study-It is carried out on a sample which represents the total population"
      ],
      "metadata": {
        "id": "vR5CxcWlttuC"
      }
    },
    {
      "cell_type": "markdown",
      "source": [
        "Observational Statistical Study- We simply collect and analyze data.We just observe the correlation in the data."
      ],
      "metadata": {
        "id": "TO4YZ4wdt_BM"
      }
    },
    {
      "cell_type": "markdown",
      "source": [
        "Experimental Study: The study in which conditions are controlled and manipulated by the experimenter."
      ],
      "metadata": {
        "id": "GDZ8PypQueoh"
      }
    },
    {
      "cell_type": "markdown",
      "source": [
        "**Sampling Techniques**-\n",
        "\n",
        "-Simple Random Sampling -Sample is randomly picked from a larger dataset.\n",
        "\n",
        "-Systematic Sampling -Sample is picked from the population at regular intervals. Eg-Selecting every 10th member from population of 10000\n",
        "\n",
        "-Stratified Random Sampling -The population is divided into smaller groups called Strata. Samples are obtained randomly from all these strata.\n",
        "\n",
        "-Cluster Sampling -It is carried out on population that has inherent groups.This population is divided into clusters and then random clusters are taken as sample."
      ],
      "metadata": {
        "id": "otYSWntpzV3S"
      }
    },
    {
      "cell_type": "markdown",
      "source": [
        "**Central Tendencies: Mean,Median and Mode**\n",
        "\n",
        "Mean- Sum of all the values divided by no of values.\n",
        "\n",
        "Median- It is the middle value when the dataset is sorted. Eg-1,2,3,4,5 . Then median is 3\n",
        "\n",
        "Mode- The value that occurs most often in a dataset.\n",
        "\n",
        "Central Tendencies are very useful in handling the missing values in a dataset.\n",
        "\n",
        "We replace *mean* value in missing values of dataset.\n",
        "\n",
        "When dataset is skewed , then we can replace missing values with *median* value.\n",
        "\n"
      ],
      "metadata": {
        "id": "ceGrgsLW3AZU"
      }
    },
    {
      "cell_type": "markdown",
      "source": [
        "**Measure of Variability Range,Variance and Standard Deviation**-\n",
        "\n",
        "Range- Difference between high and low value of a dtaset.\n",
        "\n",
        "Variance- How far each number in the dataset is from mean and therefore from every other number in the dataset.\n",
        "\n",
        "Standard Variation- It is a square root of Variance. Standard deviation looks at how spread out a group of numbers is from the mean."
      ],
      "metadata": {
        "id": "PjqNm0bG64SP"
      }
    },
    {
      "cell_type": "markdown",
      "source": [
        "**Percentiles and Quantiles**\n",
        "\n",
        "Percentiles: If A has percentile as 60 . Then 40 percent of data values are above A and 60 percent of data values are below A.\n",
        "\n",
        "Quantiles:  If A has quantile as 0.25 . Then 25 percent of data values are above A and 75 percent of data values are below A."
      ],
      "metadata": {
        "id": "GwFDmjAS9bHc"
      }
    },
    {
      "cell_type": "markdown",
      "source": [
        "**Correlation and Causation**\n",
        "\n",
        "Correlation: It is a measure that determines the extend to which two variables are related to each other in a dataset. +ve correlation means if one value increases then other value also increase. -ve correlation means if one value increases then other value decrease.\n",
        "\n",
        "Causation: One event causes another event to occur.So,there is a cause and effect relationship between the two variables in a dataset. Eg-Increase in ice-cream sale with increase in temperature on a perticular day.\n",
        "\n",
        "\n",
        "\n"
      ],
      "metadata": {
        "id": "7lorU-2kA9up"
      }
    },
    {
      "cell_type": "markdown",
      "source": [
        "**Null Hypothesis and Alternative Hypothesis**\n",
        "\n",
        "Hypothesis- It is an assumption that is made based on the observations of an experiment.\n",
        "\n",
        "Null Hypothesis- It is the commonly accepted fact.  Eg- Ptolemy proposed that sun,stars and other planets revolve around the sun.\n",
        "\n",
        "Alternative Hypothesis- It is opposite to null hypothesis and it challenges the null hypothesis. Eg- Aryabhata proposed that earth and other revolve around the sun.\n",
        "\n",
        "Hypothsis Testing- Hypothesis testing is a method carried out to tests the assumptions made in the experiment.\n"
      ],
      "metadata": {
        "id": "gTGW9q9kXpzE"
      }
    },
    {
      "cell_type": "code",
      "source": [],
      "metadata": {
        "id": "TH2or_F7k5Xs"
      },
      "execution_count": null,
      "outputs": []
    }
  ]
}
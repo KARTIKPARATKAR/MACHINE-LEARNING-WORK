{
  "nbformat": 4,
  "nbformat_minor": 0,
  "metadata": {
    "colab": {
      "provenance": [],
      "authorship_tag": "ABX9TyOGFxCVFbEwwfTREH/b4/kc",
      "include_colab_link": true
    },
    "kernelspec": {
      "name": "python3",
      "display_name": "Python 3"
    },
    "language_info": {
      "name": "python"
    }
  },
  "cells": [
    {
      "cell_type": "markdown",
      "metadata": {
        "id": "view-in-github",
        "colab_type": "text"
      },
      "source": [
        "<a href=\"https://colab.research.google.com/github/KARTIKPARATKAR/MACHINE-LEARNING-WORK/blob/main/ProbabilityNotes.ipynb\" target=\"_parent\"><img src=\"https://colab.research.google.com/assets/colab-badge.svg\" alt=\"Open In Colab\"/></a>"
      ]
    },
    {
      "cell_type": "markdown",
      "source": [
        "**Probability**\n",
        "\n",
        "It deals with the calucating likelihood of a given event to occur.\n",
        "Eg-Rolling of a Dice,Toss a coin.\n",
        "\n",
        "\n",
        "\n"
      ],
      "metadata": {
        "id": "A6Bcp3sBbd4t"
      }
    },
    {
      "cell_type": "markdown",
      "source": [
        "**Random Variables**\n",
        "\n",
        "It maps the outcomes of random events to numerical values.\n",
        "Tossing a coin has output value as X . The possible outcome is Head or Tail. If Head is output then assign X=1 and if Tail is ouput then assign X=0.Here X is the Random Variable.\n",
        "\n",
        "Discrete random variables take only discrete or distinct values. Eg-Coin toss,color of the ball.\n",
        "\n",
        "\n",
        "Continuous random variables can take any value in a given range. Eg-weight of a random person in a class.\n",
        "\n"
      ],
      "metadata": {
        "id": "F5Elf2Rde1X1"
      }
    },
    {
      "cell_type": "markdown",
      "source": [
        "**Probabilty Distribution**\n",
        "\n",
        "A probability distribution describes how the probabilities of different possible outcomes are distributed for a random variable."
      ],
      "metadata": {
        "id": "0yiTc8NEjzEI"
      }
    },
    {
      "cell_type": "markdown",
      "source": [
        "**Poisson Distribution**\n",
        "\n",
        "It is a probability distribution that measures how many times an event is likely to occur within a specified period of time.\n",
        "Eg-No of accidents occuring in a city from 6pm to 10pm\n",
        "\n"
      ],
      "metadata": {
        "id": "rOpznyjhpVbw"
      }
    },
    {
      "cell_type": "code",
      "source": [],
      "metadata": {
        "id": "TH2or_F7k5Xs"
      },
      "execution_count": null,
      "outputs": []
    }
  ]
}
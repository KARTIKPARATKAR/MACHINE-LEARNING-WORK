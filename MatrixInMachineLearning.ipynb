{
  "nbformat": 4,
  "nbformat_minor": 0,
  "metadata": {
    "colab": {
      "provenance": [],
      "authorship_tag": "ABX9TyPQqYxpREw4lJFXVYzYOKoi",
      "include_colab_link": true
    },
    "kernelspec": {
      "name": "python3",
      "display_name": "Python 3"
    },
    "language_info": {
      "name": "python"
    }
  },
  "cells": [
    {
      "cell_type": "markdown",
      "metadata": {
        "id": "view-in-github",
        "colab_type": "text"
      },
      "source": [
        "<a href=\"https://colab.research.google.com/github/KARTIKPARATKAR/MACHINE-LEARNING-WORK/blob/main/MatrixInMachineLearning.ipynb\" target=\"_parent\"><img src=\"https://colab.research.google.com/assets/colab-badge.svg\" alt=\"Open In Colab\"/></a>"
      ]
    },
    {
      "cell_type": "code",
      "execution_count": 76,
      "metadata": {
        "id": "72D57vRrQ_rZ"
      },
      "outputs": [],
      "source": [
        "import numpy as np"
      ]
    },
    {
      "cell_type": "code",
      "source": [
        "#In machine learning we ofter deal with datasets. It can contain 100s of rows and 10s of columns.\n",
        "#This dataset having multiple rows and column can be considered as matrix.\n",
        "#All the processing and computation operations happening in ML is like matrix operations only."
      ],
      "metadata": {
        "id": "P78PffUHh6lh"
      },
      "execution_count": 77,
      "outputs": []
    },
    {
      "cell_type": "markdown",
      "source": [
        "Creating matrix using numpy"
      ],
      "metadata": {
        "id": "vXdB6WLtlJ0G"
      }
    },
    {
      "cell_type": "code",
      "source": [
        "mat1=np.array([[2,3,6],[4,5,0]])\n",
        "print(mat1)"
      ],
      "metadata": {
        "colab": {
          "base_uri": "https://localhost:8080/"
        },
        "id": "_2XmqcgniY4h",
        "outputId": "093edd86-284b-4fb6-b175-6bbb776c9554"
      },
      "execution_count": 78,
      "outputs": [
        {
          "output_type": "stream",
          "name": "stdout",
          "text": [
            "[[2 3 6]\n",
            " [4 5 0]]\n"
          ]
        }
      ]
    },
    {
      "cell_type": "code",
      "source": [
        "mat1.shape   #Matrix has a shape of (2,3) It means 2 rows and 2 columns"
      ],
      "metadata": {
        "colab": {
          "base_uri": "https://localhost:8080/"
        },
        "id": "nxHwbl_WliLD",
        "outputId": "8bc1d620-2c48-49c6-bb05-413acf3e406b"
      },
      "execution_count": 79,
      "outputs": [
        {
          "output_type": "execute_result",
          "data": {
            "text/plain": [
              "(2, 3)"
            ]
          },
          "metadata": {},
          "execution_count": 79
        }
      ]
    },
    {
      "cell_type": "markdown",
      "source": [
        "Creating matrix with random values"
      ],
      "metadata": {
        "id": "1qmTuwL6mBxO"
      }
    },
    {
      "cell_type": "code",
      "source": [
        "mat2=np.random.rand(3,3) #Matrix with random values having 3*3 size\n",
        "print(mat2)"
      ],
      "metadata": {
        "colab": {
          "base_uri": "https://localhost:8080/"
        },
        "id": "tFn170IYlx_B",
        "outputId": "791c598a-2fd3-4443-8235-fad1b4670729"
      },
      "execution_count": 80,
      "outputs": [
        {
          "output_type": "stream",
          "name": "stdout",
          "text": [
            "[[0.62387637 0.24187931 0.61857789]\n",
            " [0.62043078 0.19050376 0.8922325 ]\n",
            " [0.70623443 0.76483639 0.44322798]]\n"
          ]
        }
      ]
    },
    {
      "cell_type": "code",
      "source": [
        "mat3=np.random.randint(100,size=(3,4)) #Give random values less than 100. Create a shape of matrix as 3 rows and 4 columns\n",
        "print(mat3)"
      ],
      "metadata": {
        "colab": {
          "base_uri": "https://localhost:8080/"
        },
        "id": "p01MNMsbmQai",
        "outputId": "c23309bc-38fe-446b-da06-94cd27ec90ea"
      },
      "execution_count": 81,
      "outputs": [
        {
          "output_type": "stream",
          "name": "stdout",
          "text": [
            "[[35 74 32 61]\n",
            " [18  9 65 14]\n",
            " [47 52 55 26]]\n"
          ]
        }
      ]
    },
    {
      "cell_type": "code",
      "source": [
        "#Matrix with all the values as 1\n",
        "mat4=np.ones((3,3))\n",
        "print(mat4)"
      ],
      "metadata": {
        "colab": {
          "base_uri": "https://localhost:8080/"
        },
        "id": "Dib1hB0nmmLU",
        "outputId": "46196a28-05dc-4204-bf15-323cf35b4791"
      },
      "execution_count": 82,
      "outputs": [
        {
          "output_type": "stream",
          "name": "stdout",
          "text": [
            "[[1. 1. 1.]\n",
            " [1. 1. 1.]\n",
            " [1. 1. 1.]]\n"
          ]
        }
      ]
    },
    {
      "cell_type": "code",
      "source": [
        "mat4=np.ones((3,3),dtype=int)\n",
        "print(mat4)"
      ],
      "metadata": {
        "colab": {
          "base_uri": "https://localhost:8080/"
        },
        "id": "XoaLZhJynDnA",
        "outputId": "5fa73279-93ed-4331-9fbd-ade674ab167a"
      },
      "execution_count": 83,
      "outputs": [
        {
          "output_type": "stream",
          "name": "stdout",
          "text": [
            "[[1 1 1]\n",
            " [1 1 1]\n",
            " [1 1 1]]\n"
          ]
        }
      ]
    },
    {
      "cell_type": "code",
      "source": [
        "mat4=np.ones((5,5)) #5rows and 5columns\n",
        "print(mat4)"
      ],
      "metadata": {
        "colab": {
          "base_uri": "https://localhost:8080/"
        },
        "id": "V56PYvYIqkT_",
        "outputId": "36ad593d-e98e-451b-b5a4-e3e0ffe3e1fc"
      },
      "execution_count": 84,
      "outputs": [
        {
          "output_type": "stream",
          "name": "stdout",
          "text": [
            "[[1. 1. 1. 1. 1.]\n",
            " [1. 1. 1. 1. 1.]\n",
            " [1. 1. 1. 1. 1.]\n",
            " [1. 1. 1. 1. 1.]\n",
            " [1. 1. 1. 1. 1.]]\n"
          ]
        }
      ]
    },
    {
      "cell_type": "markdown",
      "source": [
        "Null Matrix or Zero Matrix"
      ],
      "metadata": {
        "id": "QQQj8gt9qrFN"
      }
    },
    {
      "cell_type": "code",
      "source": [
        "nullmatrix=np.zeros((4,4),dtype=int)\n",
        "print(nullmatrix)"
      ],
      "metadata": {
        "colab": {
          "base_uri": "https://localhost:8080/"
        },
        "id": "RVDTQOpzqnsc",
        "outputId": "5fdeba5f-08b9-4947-c108-ef9b64885785"
      },
      "execution_count": 85,
      "outputs": [
        {
          "output_type": "stream",
          "name": "stdout",
          "text": [
            "[[0 0 0 0]\n",
            " [0 0 0 0]\n",
            " [0 0 0 0]\n",
            " [0 0 0 0]]\n"
          ]
        }
      ]
    },
    {
      "cell_type": "markdown",
      "source": [
        "Identity matrix: Diagonal values are 1 and all other are zero"
      ],
      "metadata": {
        "id": "OLfTEjlpq_ds"
      }
    },
    {
      "cell_type": "code",
      "source": [
        "identity=np.eye(4,dtype=int)\n",
        "print(identity)"
      ],
      "metadata": {
        "colab": {
          "base_uri": "https://localhost:8080/"
        },
        "id": "-Sw-QRptq2RN",
        "outputId": "978cd5f5-2b31-4945-bd41-1fefae6b1db1"
      },
      "execution_count": 86,
      "outputs": [
        {
          "output_type": "stream",
          "name": "stdout",
          "text": [
            "[[1 0 0 0]\n",
            " [0 1 0 0]\n",
            " [0 0 1 0]\n",
            " [0 0 0 1]]\n"
          ]
        }
      ]
    },
    {
      "cell_type": "code",
      "source": [
        "identity5=np.eye(5,dtype=int)\n",
        "print(identity5)"
      ],
      "metadata": {
        "colab": {
          "base_uri": "https://localhost:8080/"
        },
        "id": "RrTlF4chrMZW",
        "outputId": "586af6aa-3028-402a-c637-2b96908d3bcb"
      },
      "execution_count": 87,
      "outputs": [
        {
          "output_type": "stream",
          "name": "stdout",
          "text": [
            "[[1 0 0 0 0]\n",
            " [0 1 0 0 0]\n",
            " [0 0 1 0 0]\n",
            " [0 0 0 1 0]\n",
            " [0 0 0 0 1]]\n"
          ]
        }
      ]
    },
    {
      "cell_type": "markdown",
      "source": [
        "Transpose-Rows are converted into columns and columns are converted into rows"
      ],
      "metadata": {
        "id": "8x7vbhCxrYN1"
      }
    },
    {
      "cell_type": "code",
      "source": [
        "a=np.random.randint(100,size=(3,4))\n",
        "print(a)"
      ],
      "metadata": {
        "colab": {
          "base_uri": "https://localhost:8080/"
        },
        "id": "aFVInIYsrTgU",
        "outputId": "3043d38d-205e-48a1-a263-5d5cc1d7a05b"
      },
      "execution_count": 88,
      "outputs": [
        {
          "output_type": "stream",
          "name": "stdout",
          "text": [
            "[[66 62 98 81]\n",
            " [95 19 77 32]\n",
            " [64 94  2 40]]\n"
          ]
        }
      ]
    },
    {
      "cell_type": "code",
      "source": [
        "transposeofa=np.transpose(a)\n",
        "print(transposeofa)"
      ],
      "metadata": {
        "colab": {
          "base_uri": "https://localhost:8080/"
        },
        "id": "ffWSl6WtrkKg",
        "outputId": "b6bff44e-d5fc-4571-ada0-0676efa4637f"
      },
      "execution_count": 89,
      "outputs": [
        {
          "output_type": "stream",
          "name": "stdout",
          "text": [
            "[[66 95 64]\n",
            " [62 19 94]\n",
            " [98 77  2]\n",
            " [81 32 40]]\n"
          ]
        }
      ]
    },
    {
      "cell_type": "code",
      "source": [],
      "metadata": {
        "id": "0jPMSxHer2Ci"
      },
      "execution_count": 89,
      "outputs": []
    }
  ]
}
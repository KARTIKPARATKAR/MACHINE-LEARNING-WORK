{
  "nbformat": 4,
  "nbformat_minor": 0,
  "metadata": {
    "colab": {
      "provenance": [],
      "authorship_tag": "ABX9TyPpBd2WyDzr0wC+c06E19tN",
      "include_colab_link": true
    },
    "kernelspec": {
      "name": "python3",
      "display_name": "Python 3"
    },
    "language_info": {
      "name": "python"
    }
  },
  "cells": [
    {
      "cell_type": "markdown",
      "metadata": {
        "id": "view-in-github",
        "colab_type": "text"
      },
      "source": [
        "<a href=\"https://colab.research.google.com/github/KARTIKPARATKAR/MACHINE-LEARNING-WORK/blob/main/Unsupervised_Machine_Learning_Models.ipynb\" target=\"_parent\"><img src=\"https://colab.research.google.com/assets/colab-badge.svg\" alt=\"Open In Colab\"/></a>"
      ]
    },
    {
      "cell_type": "markdown",
      "source": [
        "***Unsupervised Machine Learning Models - ***\n",
        "\n",
        "In unsupervised learning, the machine learning algorithms learns from Unlabelled Data.\n",
        "Lets consider we have a dataset containing images mangoes and apples. We want to classify these images into mangoes and apples. But whatever data images we have , we dont know which image is of apple and which image is of mangoes. It means we dont have labells for our dataset. So as it means we are learning our model with unlabelled data.\n",
        "\n",
        "Two types of Unsupervised Machine Learning Models:\n",
        "\n",
        "***1)Clustering-***\n",
        "\n",
        "It is an unsupervised machine learning algorithm which involves grouping the similar data points based on patterns and similarities without predefined labells.\n",
        "Eg -  A telecom company wants to classify its customes based on rural and urban area. These two types of customers will consume different amount of data. Rural will consume less data and urban will consume more data. When we draw rural customers data usage and urban customers data usage,we may find creation of two clusters which separates rural and urban customers.\n",
        "\n",
        "\n",
        "***2)Association-*** (How frequently a itemset occurs in a transaction)\n",
        "\n",
        "Association Rule Learning is an unsupervised machine learning technique used to discover relationships or patterns between variables in large datasets. It is commonly used in market basket analysis, where we find which items are frequently bought together.\n",
        "\n",
        "Eg- Shopekeeper observes that a customer purchasing New Laptop is more likely to buy mouse and key-board. So there is a relationship between buiying New laptop and buying mouse and key-board. So in future,everytime a new customer buys a laptop , he will suggest to buy key-board and new- mouse."
      ],
      "metadata": {
        "id": "ZLtdlSxWZCUn"
      }
    },
    {
      "cell_type": "markdown",
      "source": [
        "***Unsupervised Machine Learning Models-***\n",
        "\n",
        "- K-Means Clusterning\n",
        "\n",
        "- Hierarchical Clustering\n",
        "\n",
        "- Dimentionality Reduction --> Principal Component Analysis (PCA)\n",
        "\n",
        "-"
      ],
      "metadata": {
        "id": "OH_b47e_gtgi"
      }
    },
    {
      "cell_type": "code",
      "source": [],
      "metadata": {
        "id": "rYwRD2-Hgn6a"
      },
      "execution_count": null,
      "outputs": []
    },
    {
      "cell_type": "code",
      "source": [],
      "metadata": {
        "id": "WtlVVjFYOqQg"
      },
      "execution_count": null,
      "outputs": []
    }
  ]
}
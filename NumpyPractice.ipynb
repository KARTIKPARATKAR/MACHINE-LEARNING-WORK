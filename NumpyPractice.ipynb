{
  "cells": [
    {
      "cell_type": "markdown",
      "metadata": {
        "id": "view-in-github",
        "colab_type": "text"
      },
      "source": [
        "<a href=\"https://colab.research.google.com/github/KARTIKPARATKAR/MACHINE-LEARNING-WORK/blob/main/NumpyPractice.ipynb\" target=\"_parent\"><img src=\"https://colab.research.google.com/assets/colab-badge.svg\" alt=\"Open In Colab\"/></a>"
      ]
    },
    {
      "cell_type": "code",
      "source": [
        "import numpy as np\n"
      ],
      "metadata": {
        "id": "uJqluHbMLwqG"
      },
      "execution_count": 38,
      "outputs": []
    },
    {
      "cell_type": "code",
      "source": [
        "a=np.array([1,2,3,4])"
      ],
      "metadata": {
        "id": "YUYKuXsTLzQf"
      },
      "execution_count": 39,
      "outputs": []
    },
    {
      "cell_type": "code",
      "source": [
        "print(a)"
      ],
      "metadata": {
        "id": "ySJIwgbSL2dq",
        "outputId": "fe85ad7f-1c24-4ea1-efff-17f196b7d673",
        "colab": {
          "base_uri": "https://localhost:8080/"
        }
      },
      "execution_count": 40,
      "outputs": [
        {
          "output_type": "stream",
          "name": "stdout",
          "text": [
            "[1 2 3 4]\n"
          ]
        }
      ]
    },
    {
      "cell_type": "code",
      "source": [
        "a.shape"
      ],
      "metadata": {
        "id": "CUHrKRypL3LC",
        "outputId": "e04bb957-43ad-4c0b-e615-41daa72d90c8",
        "colab": {
          "base_uri": "https://localhost:8080/"
        }
      },
      "execution_count": 41,
      "outputs": [
        {
          "output_type": "execute_result",
          "data": {
            "text/plain": [
              "(4,)"
            ]
          },
          "metadata": {},
          "execution_count": 41
        }
      ]
    },
    {
      "cell_type": "code",
      "source": [
        "a.size"
      ],
      "metadata": {
        "id": "IaQRQEc3L4O3",
        "outputId": "965f07c6-381b-4705-a0d4-9d0928afda7c",
        "colab": {
          "base_uri": "https://localhost:8080/"
        }
      },
      "execution_count": 42,
      "outputs": [
        {
          "output_type": "execute_result",
          "data": {
            "text/plain": [
              "4"
            ]
          },
          "metadata": {},
          "execution_count": 42
        }
      ]
    },
    {
      "cell_type": "code",
      "source": [
        "twod=np.array([[1,2],[3,4],[5,6]])"
      ],
      "metadata": {
        "id": "MTROJPYtL7CX"
      },
      "execution_count": 43,
      "outputs": []
    },
    {
      "cell_type": "code",
      "source": [
        "print(twod)"
      ],
      "metadata": {
        "id": "uqoX2vfaMOyL",
        "outputId": "1eec7475-fdae-4671-bd1f-95b02def2fbc",
        "colab": {
          "base_uri": "https://localhost:8080/"
        }
      },
      "execution_count": 44,
      "outputs": [
        {
          "output_type": "stream",
          "name": "stdout",
          "text": [
            "[[1 2]\n",
            " [3 4]\n",
            " [5 6]]\n"
          ]
        }
      ]
    },
    {
      "cell_type": "code",
      "source": [
        "\n",
        "twod.shape"
      ],
      "metadata": {
        "id": "i-wpEdZbMZB1",
        "outputId": "91075698-ae2e-4fd2-e4c7-71a8839f66fb",
        "colab": {
          "base_uri": "https://localhost:8080/"
        }
      },
      "execution_count": 45,
      "outputs": [
        {
          "output_type": "execute_result",
          "data": {
            "text/plain": [
              "(3, 2)"
            ]
          },
          "metadata": {},
          "execution_count": 45
        }
      ]
    },
    {
      "cell_type": "code",
      "source": [
        "twod.size"
      ],
      "metadata": {
        "id": "PRu7gdANMbL2",
        "outputId": "e1aff176-25b2-4a09-ca97-cd0147f1f9b7",
        "colab": {
          "base_uri": "https://localhost:8080/"
        }
      },
      "execution_count": 46,
      "outputs": [
        {
          "output_type": "execute_result",
          "data": {
            "text/plain": [
              "6"
            ]
          },
          "metadata": {},
          "execution_count": 46
        }
      ]
    },
    {
      "cell_type": "code",
      "source": [
        "\n",
        "twod.dtype"
      ],
      "metadata": {
        "id": "1vSkIBiiMc7u",
        "outputId": "438981e1-2683-4fc1-bbec-f8a68e5c4154",
        "colab": {
          "base_uri": "https://localhost:8080/"
        }
      },
      "execution_count": 47,
      "outputs": [
        {
          "output_type": "execute_result",
          "data": {
            "text/plain": [
              "dtype('int64')"
            ]
          },
          "metadata": {},
          "execution_count": 47
        }
      ]
    },
    {
      "cell_type": "code",
      "source": [
        "zero=np.zeros((3,3))"
      ],
      "metadata": {
        "id": "hhY-wJ4YMgRd"
      },
      "execution_count": 48,
      "outputs": []
    },
    {
      "cell_type": "code",
      "source": [
        "print(zero)"
      ],
      "metadata": {
        "id": "aPCQQ4LKMoGq",
        "outputId": "9756b445-036e-4f8a-b4bd-a3072aeb09d0",
        "colab": {
          "base_uri": "https://localhost:8080/"
        }
      },
      "execution_count": 49,
      "outputs": [
        {
          "output_type": "stream",
          "name": "stdout",
          "text": [
            "[[0. 0. 0.]\n",
            " [0. 0. 0.]\n",
            " [0. 0. 0.]]\n"
          ]
        }
      ]
    },
    {
      "cell_type": "code",
      "source": [
        "rand=np.ones((2,2))"
      ],
      "metadata": {
        "id": "OLC8-MVgNQrh"
      },
      "execution_count": 50,
      "outputs": []
    },
    {
      "cell_type": "code",
      "source": [
        "\n",
        "print(rand)"
      ],
      "metadata": {
        "id": "Ft3jsrIvNWP9",
        "outputId": "b68bc56f-b91d-434a-cfeb-e451a02f9417",
        "colab": {
          "base_uri": "https://localhost:8080/"
        }
      },
      "execution_count": 51,
      "outputs": [
        {
          "output_type": "stream",
          "name": "stdout",
          "text": [
            "[[1. 1.]\n",
            " [1. 1.]]\n"
          ]
        }
      ]
    },
    {
      "cell_type": "code",
      "source": [
        "print(\"Indexing in numpy array:\")"
      ],
      "metadata": {
        "id": "15BFNYbjNXT2",
        "outputId": "6ca45f54-fb17-4b34-b68b-a3f3b56436ef",
        "colab": {
          "base_uri": "https://localhost:8080/"
        }
      },
      "execution_count": 52,
      "outputs": [
        {
          "output_type": "stream",
          "name": "stdout",
          "text": [
            "Indexing in numpy array:\n"
          ]
        }
      ]
    },
    {
      "cell_type": "code",
      "source": [
        "p=np.array([11,22,33,44,55,66,77,88,99])\n"
      ],
      "metadata": {
        "id": "JKjn0f6iNgkA"
      },
      "execution_count": 53,
      "outputs": []
    },
    {
      "cell_type": "code",
      "source": [
        "print(p[1])"
      ],
      "metadata": {
        "id": "p3aYVz1wN8et",
        "outputId": "c5e4cbc8-e1c2-4753-ef02-7dc1131f32c0",
        "colab": {
          "base_uri": "https://localhost:8080/"
        }
      },
      "execution_count": 54,
      "outputs": [
        {
          "output_type": "stream",
          "name": "stdout",
          "text": [
            "22\n"
          ]
        }
      ]
    },
    {
      "cell_type": "code",
      "source": [
        "print(p[2])"
      ],
      "metadata": {
        "id": "4RyfxN69N_Ky",
        "outputId": "9f02d885-fe0a-4c09-9383-9a421951a78f",
        "colab": {
          "base_uri": "https://localhost:8080/"
        }
      },
      "execution_count": 55,
      "outputs": [
        {
          "output_type": "stream",
          "name": "stdout",
          "text": [
            "33\n"
          ]
        }
      ]
    },
    {
      "cell_type": "code",
      "source": [
        "print(p[3])"
      ],
      "metadata": {
        "id": "JDobnxpfOFd9",
        "outputId": "72465ad1-06c9-4bf5-8bbf-28a1e8fea83a",
        "colab": {
          "base_uri": "https://localhost:8080/"
        }
      },
      "execution_count": 56,
      "outputs": [
        {
          "output_type": "stream",
          "name": "stdout",
          "text": [
            "44\n"
          ]
        }
      ]
    },
    {
      "cell_type": "code",
      "source": [
        "p[0]=0  #Seting the value at index 0 as 0"
      ],
      "metadata": {
        "id": "bnxhFvPSOHQo"
      },
      "execution_count": 57,
      "outputs": []
    },
    {
      "cell_type": "code",
      "source": [
        "print(p)    #Printing the numpy array when array emenet at 0 index is made 0"
      ],
      "metadata": {
        "id": "tSHJ7EdPOLjE",
        "outputId": "b135e314-380e-4936-c406-30af83bcdd98",
        "colab": {
          "base_uri": "https://localhost:8080/"
        }
      },
      "execution_count": 58,
      "outputs": [
        {
          "output_type": "stream",
          "name": "stdout",
          "text": [
            "[ 0 22 33 44 55 66 77 88 99]\n"
          ]
        }
      ]
    },
    {
      "cell_type": "code",
      "source": [
        "t=np.array([[1,2,3,4],[6,7,8,9],[11,22,33,44]])"
      ],
      "metadata": {
        "id": "lKtLW0EUOMuL"
      },
      "execution_count": 59,
      "outputs": []
    },
    {
      "cell_type": "code",
      "source": [
        "print(t)"
      ],
      "metadata": {
        "id": "VIAE1cBmOhUr",
        "outputId": "4c37f915-1756-4bd6-99ea-faf9e8867577",
        "colab": {
          "base_uri": "https://localhost:8080/"
        }
      },
      "execution_count": 60,
      "outputs": [
        {
          "output_type": "stream",
          "name": "stdout",
          "text": [
            "[[ 1  2  3  4]\n",
            " [ 6  7  8  9]\n",
            " [11 22 33 44]]\n"
          ]
        }
      ]
    },
    {
      "cell_type": "code",
      "source": [
        "print(\"0th column of numpy array:\",t[:,0])"
      ],
      "metadata": {
        "id": "ozTCUJevOiGZ",
        "outputId": "9c43b50c-19cd-487d-f2f3-49ae2cb06570",
        "colab": {
          "base_uri": "https://localhost:8080/"
        }
      },
      "execution_count": 61,
      "outputs": [
        {
          "output_type": "stream",
          "name": "stdout",
          "text": [
            "0th column of numpy array: [ 1  6 11]\n"
          ]
        }
      ]
    },
    {
      "cell_type": "code",
      "source": [
        "print(\"1st row of numpy array:\",t[1,:])"
      ],
      "metadata": {
        "id": "Jrn0_M-OPWic",
        "outputId": "ca8582c9-2ef4-45d2-c24e-ac5103cab300",
        "colab": {
          "base_uri": "https://localhost:8080/"
        }
      },
      "execution_count": 62,
      "outputs": [
        {
          "output_type": "stream",
          "name": "stdout",
          "text": [
            "1st row of numpy array: [6 7 8 9]\n"
          ]
        }
      ]
    },
    {
      "cell_type": "code",
      "source": [
        "print(t)"
      ],
      "metadata": {
        "id": "6lOTmX49QOsI",
        "outputId": "59b03553-9563-41f8-b616-2fba5223de9d",
        "colab": {
          "base_uri": "https://localhost:8080/"
        }
      },
      "execution_count": 63,
      "outputs": [
        {
          "output_type": "stream",
          "name": "stdout",
          "text": [
            "[[ 1  2  3  4]\n",
            " [ 6  7  8  9]\n",
            " [11 22 33 44]]\n"
          ]
        }
      ]
    },
    {
      "cell_type": "code",
      "source": [
        "x=np.array([[1,2],[3,4]],dtype=np.float64)"
      ],
      "metadata": {
        "id": "q6xUcK0OQXIT"
      },
      "execution_count": 64,
      "outputs": []
    },
    {
      "cell_type": "code",
      "source": [
        "y=np.array([[5,6],[7,8]],dtype=np.float64)"
      ],
      "metadata": {
        "id": "hL-bsz0vQo16"
      },
      "execution_count": 65,
      "outputs": []
    },
    {
      "cell_type": "code",
      "source": [
        "print(x)"
      ],
      "metadata": {
        "id": "XaosowCiQujn",
        "outputId": "15196c9d-7dff-42c3-d8b4-55af8f62150c",
        "colab": {
          "base_uri": "https://localhost:8080/"
        }
      },
      "execution_count": 66,
      "outputs": [
        {
          "output_type": "stream",
          "name": "stdout",
          "text": [
            "[[1. 2.]\n",
            " [3. 4.]]\n"
          ]
        }
      ]
    },
    {
      "cell_type": "code",
      "source": [
        "print(y)"
      ],
      "metadata": {
        "id": "x7zSv7lAQvVZ",
        "outputId": "dbd91f87-5ea9-409c-c6ed-62709f257630",
        "colab": {
          "base_uri": "https://localhost:8080/"
        }
      },
      "execution_count": 67,
      "outputs": [
        {
          "output_type": "stream",
          "name": "stdout",
          "text": [
            "[[5. 6.]\n",
            " [7. 8.]]\n"
          ]
        }
      ]
    },
    {
      "cell_type": "code",
      "source": [
        "print(x+y)"
      ],
      "metadata": {
        "id": "ioRUcpPyQwF3",
        "outputId": "3935adaf-120a-4f59-81fd-3f33d6129aa8",
        "colab": {
          "base_uri": "https://localhost:8080/"
        }
      },
      "execution_count": 68,
      "outputs": [
        {
          "output_type": "stream",
          "name": "stdout",
          "text": [
            "[[ 6.  8.]\n",
            " [10. 12.]]\n"
          ]
        }
      ]
    },
    {
      "cell_type": "code",
      "source": [
        "print(x.min())  #Min element of x"
      ],
      "metadata": {
        "id": "1-3CZuQTQzHr",
        "outputId": "3940ea8a-414c-4a03-b20d-0f5ef2fa8934",
        "colab": {
          "base_uri": "https://localhost:8080/"
        }
      },
      "execution_count": 69,
      "outputs": [
        {
          "output_type": "stream",
          "name": "stdout",
          "text": [
            "1.0\n"
          ]
        }
      ]
    },
    {
      "cell_type": "code",
      "source": [
        "print(y.max())   #Max element of y"
      ],
      "metadata": {
        "id": "o17y5sBsQ5hh",
        "outputId": "acb99569-6737-4f40-cbba-bb89cb79b641",
        "colab": {
          "base_uri": "https://localhost:8080/"
        }
      },
      "execution_count": 70,
      "outputs": [
        {
          "output_type": "stream",
          "name": "stdout",
          "text": [
            "8.0\n"
          ]
        }
      ]
    },
    {
      "cell_type": "code",
      "source": [
        "type(a)   #This will give the type of array"
      ],
      "metadata": {
        "id": "RtHqIfTFQ7Ic",
        "outputId": "cf3014b4-2d08-4e9a-e4b8-c430394f028b",
        "colab": {
          "base_uri": "https://localhost:8080/"
        }
      },
      "execution_count": 71,
      "outputs": [
        {
          "output_type": "execute_result",
          "data": {
            "text/plain": [
              "numpy.ndarray"
            ]
          },
          "metadata": {},
          "execution_count": 71
        }
      ]
    },
    {
      "cell_type": "code",
      "source": [
        "five=np.full([2,2],5)"
      ],
      "metadata": {
        "id": "K72JsHBORMj4"
      },
      "execution_count": 72,
      "outputs": []
    },
    {
      "cell_type": "code",
      "source": [
        "print(five)"
      ],
      "metadata": {
        "colab": {
          "base_uri": "https://localhost:8080/"
        },
        "id": "fQSMxQofSPBQ",
        "outputId": "83386b64-0683-4b0d-ad69-fe3cca7b9cf0"
      },
      "execution_count": 73,
      "outputs": [
        {
          "output_type": "stream",
          "name": "stdout",
          "text": [
            "[[5 5]\n",
            " [5 5]]\n"
          ]
        }
      ]
    },
    {
      "cell_type": "code",
      "source": [
        "#Creating numpy array with random values\n",
        "g=np.random.random([3,4])"
      ],
      "metadata": {
        "id": "TBCfoqlUShWC"
      },
      "execution_count": 74,
      "outputs": []
    },
    {
      "cell_type": "code",
      "source": [
        "print(g)"
      ],
      "metadata": {
        "colab": {
          "base_uri": "https://localhost:8080/"
        },
        "id": "3JaKMMN1Ss8Q",
        "outputId": "36f0c61f-1076-49e1-b10e-94239c3aebb1"
      },
      "execution_count": 75,
      "outputs": [
        {
          "output_type": "stream",
          "name": "stdout",
          "text": [
            "[[0.23287191 0.51270624 0.45494187 0.41768898]\n",
            " [0.49434543 0.34098572 0.54330738 0.79091157]\n",
            " [0.04875048 0.31286528 0.54065611 0.3565757 ]]\n"
          ]
        }
      ]
    },
    {
      "cell_type": "code",
      "source": [
        "#Converting list to numpy array\n",
        "list=[11,22,33,44,55,66,77,88]\n"
      ],
      "metadata": {
        "id": "0e55nkQgStv-"
      },
      "execution_count": 76,
      "outputs": []
    },
    {
      "cell_type": "code",
      "source": [
        "\n",
        "type(list)"
      ],
      "metadata": {
        "colab": {
          "base_uri": "https://localhost:8080/"
        },
        "id": "qRyEFR4pTQJK",
        "outputId": "4e3fbf0f-2794-4023-c156-cb5a3e5cca1e"
      },
      "execution_count": 77,
      "outputs": [
        {
          "output_type": "execute_result",
          "data": {
            "text/plain": [
              "list"
            ]
          },
          "metadata": {},
          "execution_count": 77
        }
      ]
    },
    {
      "cell_type": "code",
      "source": [
        "arr=np.array(list)"
      ],
      "metadata": {
        "id": "Yw43M5evTRpI"
      },
      "execution_count": 78,
      "outputs": []
    },
    {
      "cell_type": "code",
      "source": [
        "type(arr)"
      ],
      "metadata": {
        "colab": {
          "base_uri": "https://localhost:8080/"
        },
        "id": "ALdWx5METV5L",
        "outputId": "3fe1b2a9-0e85-4ff3-ae00-4905edd3be8b"
      },
      "execution_count": 79,
      "outputs": [
        {
          "output_type": "execute_result",
          "data": {
            "text/plain": [
              "numpy.ndarray"
            ]
          },
          "metadata": {},
          "execution_count": 79
        }
      ]
    },
    {
      "cell_type": "code",
      "source": [
        "\n",
        "m=np.random.randint(10,100,(4,4))  #Generating numpy array of 4*4 dimensions having numbers between 10 to 100\n",
        "print(m)"
      ],
      "metadata": {
        "colab": {
          "base_uri": "https://localhost:8080/"
        },
        "id": "95zUC5WdTXQ0",
        "outputId": "41ab27af-2fc3-43dc-fe42-dabe000135f7"
      },
      "execution_count": 80,
      "outputs": [
        {
          "output_type": "stream",
          "name": "stdout",
          "text": [
            "[[64 13 19 45]\n",
            " [39 74 65 31]\n",
            " [69 68 47 30]\n",
            " [73 25 49 89]]\n"
          ]
        }
      ]
    },
    {
      "cell_type": "code",
      "source": [
        "m.shape"
      ],
      "metadata": {
        "colab": {
          "base_uri": "https://localhost:8080/"
        },
        "id": "Y5c8feqQTurI",
        "outputId": "3da71639-4c53-41f0-c3e4-67602a7fb4f2"
      },
      "execution_count": 81,
      "outputs": [
        {
          "output_type": "execute_result",
          "data": {
            "text/plain": [
              "(4, 4)"
            ]
          },
          "metadata": {},
          "execution_count": 81
        }
      ]
    },
    {
      "cell_type": "code",
      "source": [
        "\n",
        "m.ndim  #Knowing the dimension of array"
      ],
      "metadata": {
        "colab": {
          "base_uri": "https://localhost:8080/"
        },
        "id": "yY2GW032T6VW",
        "outputId": "88435a92-bb67-4060-dc37-6ed70388d60b"
      },
      "execution_count": 82,
      "outputs": [
        {
          "output_type": "execute_result",
          "data": {
            "text/plain": [
              "2"
            ]
          },
          "metadata": {},
          "execution_count": 82
        }
      ]
    },
    {
      "cell_type": "code",
      "source": [
        "m.size  #Size of array"
      ],
      "metadata": {
        "colab": {
          "base_uri": "https://localhost:8080/"
        },
        "id": "Oonm8kAMT8Iv",
        "outputId": "577e0304-ef0b-412b-ca8b-7f214214f719"
      },
      "execution_count": 83,
      "outputs": [
        {
          "output_type": "execute_result",
          "data": {
            "text/plain": [
              "16"
            ]
          },
          "metadata": {},
          "execution_count": 83
        }
      ]
    },
    {
      "cell_type": "code",
      "source": [
        "m.dtype"
      ],
      "metadata": {
        "colab": {
          "base_uri": "https://localhost:8080/"
        },
        "id": "ZeaFsK_8UGRx",
        "outputId": "e6a03fe4-387c-4e70-c346-6a7fd5503e3d"
      },
      "execution_count": 84,
      "outputs": [
        {
          "output_type": "execute_result",
          "data": {
            "text/plain": [
              "dtype('int64')"
            ]
          },
          "metadata": {},
          "execution_count": 84
        }
      ]
    },
    {
      "cell_type": "code",
      "source": [
        "l1=[1,2,3,4]\n",
        "l2=[4,5]\n"
      ],
      "metadata": {
        "id": "JmAyk3NtUNzO"
      },
      "execution_count": 85,
      "outputs": []
    },
    {
      "cell_type": "code",
      "source": [
        "print(l1+l2)  #When you use + on python list it"
      ],
      "metadata": {
        "colab": {
          "base_uri": "https://localhost:8080/"
        },
        "id": "BhzcTQQKUU_Q",
        "outputId": "e852fd8e-e375-4f18-e228-94916914025b"
      },
      "execution_count": 86,
      "outputs": [
        {
          "output_type": "stream",
          "name": "stdout",
          "text": [
            "[1, 2, 3, 4, 4, 5]\n"
          ]
        }
      ]
    },
    {
      "cell_type": "code",
      "source": [
        "l1=np.array([1,2,3])\n",
        "l2=np.array([4,5,6])"
      ],
      "metadata": {
        "id": "RHwr_mKUUWYS"
      },
      "execution_count": 87,
      "outputs": []
    },
    {
      "cell_type": "code",
      "source": [
        "print(l1+l2)"
      ],
      "metadata": {
        "colab": {
          "base_uri": "https://localhost:8080/"
        },
        "id": "89UqApcCUid4",
        "outputId": "3c93d5e1-b54c-4f10-a4ce-114572c36ffb"
      },
      "execution_count": 88,
      "outputs": [
        {
          "output_type": "stream",
          "name": "stdout",
          "text": [
            "[5 7 9]\n"
          ]
        }
      ]
    },
    {
      "cell_type": "code",
      "source": [
        "#Array manupulation"
      ],
      "metadata": {
        "id": "6egw96TaUkTl"
      },
      "execution_count": 89,
      "outputs": []
    },
    {
      "cell_type": "code",
      "source": [
        "p=np.random.randint(1,100,(2,3))"
      ],
      "metadata": {
        "id": "bfZK3gYvVPDP"
      },
      "execution_count": 90,
      "outputs": []
    },
    {
      "cell_type": "code",
      "source": [
        "print(p)"
      ],
      "metadata": {
        "colab": {
          "base_uri": "https://localhost:8080/"
        },
        "id": "pTWJLqLAVWGR",
        "outputId": "825afd50-a88f-4af5-d339-c21c1e96cb61"
      },
      "execution_count": 91,
      "outputs": [
        {
          "output_type": "stream",
          "name": "stdout",
          "text": [
            "[[63 35 20]\n",
            " [96 68 28]]\n"
          ]
        }
      ]
    },
    {
      "cell_type": "code",
      "source": [
        "print(p.shape)"
      ],
      "metadata": {
        "colab": {
          "base_uri": "https://localhost:8080/"
        },
        "id": "LrN0WUzmVXlx",
        "outputId": "0902e8cd-3ec4-4e56-d034-cabcd97c43ca"
      },
      "execution_count": 92,
      "outputs": [
        {
          "output_type": "stream",
          "name": "stdout",
          "text": [
            "(2, 3)\n"
          ]
        }
      ]
    },
    {
      "cell_type": "code",
      "source": [
        "q=np.transpose(p)"
      ],
      "metadata": {
        "id": "A0taZ6WgVZvE"
      },
      "execution_count": 93,
      "outputs": []
    },
    {
      "cell_type": "code",
      "source": [
        "print(q)"
      ],
      "metadata": {
        "colab": {
          "base_uri": "https://localhost:8080/"
        },
        "id": "LpSYnemcVed7",
        "outputId": "1113b462-ff12-4022-99ef-c22cc5f371e1"
      },
      "execution_count": 94,
      "outputs": [
        {
          "output_type": "stream",
          "name": "stdout",
          "text": [
            "[[63 96]\n",
            " [35 68]\n",
            " [20 28]]\n"
          ]
        }
      ]
    },
    {
      "cell_type": "code",
      "source": [
        "#Reshaping array\n",
        "r=np.random.randint(10,40,(3,4))"
      ],
      "metadata": {
        "id": "DHMJ2PEPVf6x"
      },
      "execution_count": 95,
      "outputs": []
    },
    {
      "cell_type": "code",
      "source": [
        "print(r)"
      ],
      "metadata": {
        "colab": {
          "base_uri": "https://localhost:8080/"
        },
        "id": "5kE-G16yVrHK",
        "outputId": "89e02375-d06f-488c-e3b8-4ad55390ef40"
      },
      "execution_count": 96,
      "outputs": [
        {
          "output_type": "stream",
          "name": "stdout",
          "text": [
            "[[17 32 30 31]\n",
            " [38 21 21 16]\n",
            " [19 32 15 36]]\n"
          ]
        }
      ]
    },
    {
      "cell_type": "code",
      "source": [
        "print(r.shape)"
      ],
      "metadata": {
        "colab": {
          "base_uri": "https://localhost:8080/"
        },
        "id": "VSrNF_hVVsTS",
        "outputId": "01859153-9d2b-46f1-bfaa-12eb2766448e"
      },
      "execution_count": 97,
      "outputs": [
        {
          "output_type": "stream",
          "name": "stdout",
          "text": [
            "(3, 4)\n"
          ]
        }
      ]
    },
    {
      "cell_type": "code",
      "source": [
        "s=r.reshape(4,3)"
      ],
      "metadata": {
        "id": "kfY81Ov0Vuwu"
      },
      "execution_count": 98,
      "outputs": []
    },
    {
      "cell_type": "code",
      "source": [
        "print(s)"
      ],
      "metadata": {
        "colab": {
          "base_uri": "https://localhost:8080/"
        },
        "id": "irqUlhT_Vx-Y",
        "outputId": "87c4fa4f-52b6-4d99-ef5c-4b62fb287dd3"
      },
      "execution_count": 99,
      "outputs": [
        {
          "output_type": "stream",
          "name": "stdout",
          "text": [
            "[[17 32 30]\n",
            " [31 38 21]\n",
            " [21 16 19]\n",
            " [32 15 36]]\n"
          ]
        }
      ]
    },
    {
      "cell_type": "code",
      "source": [
        "print(s.shape)"
      ],
      "metadata": {
        "colab": {
          "base_uri": "https://localhost:8080/"
        },
        "id": "o98oVyX0Vzya",
        "outputId": "08d78290-d16e-49d5-8fbe-41b645319c8a"
      },
      "execution_count": 100,
      "outputs": [
        {
          "output_type": "stream",
          "name": "stdout",
          "text": [
            "(4, 3)\n"
          ]
        }
      ]
    },
    {
      "cell_type": "code",
      "source": [],
      "metadata": {
        "id": "iBRJ1z-9V6kb"
      },
      "execution_count": 100,
      "outputs": []
    }
  ],
  "metadata": {
    "colab": {
      "provenance": [],
      "include_colab_link": true
    },
    "kernelspec": {
      "display_name": "Python 3",
      "name": "python3"
    }
  },
  "nbformat": 4,
  "nbformat_minor": 0
}
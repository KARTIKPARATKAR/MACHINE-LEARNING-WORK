{
  "cells": [
    {
      "cell_type": "markdown",
      "metadata": {
        "id": "view-in-github",
        "colab_type": "text"
      },
      "source": [
        "<a href=\"https://colab.research.google.com/github/KARTIKPARATKAR/MACHINE-LEARNING-WORK/blob/main/CustomerSegmentationUsingClustering.ipynb\" target=\"_parent\"><img src=\"https://colab.research.google.com/assets/colab-badge.svg\" alt=\"Open In Colab\"/></a>"
      ]
    },
    {
      "cell_type": "markdown",
      "source": [
        "Dataset Used - https://www.kaggle.com/datasets/vjchoudhary7/customer-segmentation-tutorial-in-python"
      ],
      "metadata": {
        "id": "Y3BGVlTnS8qj"
      },
      "id": "Y3BGVlTnS8qj"
    },
    {
      "cell_type": "markdown",
      "source": [
        "**Problem Statement-**\n",
        "\n",
        "There is a mall where different kind of customers come for shopping. One group of customers tend to purchase a perticular things and another group of customerstend to purchase some another things. So we have group the customers so as to plan a better marketing stategy and better customer experiance.\n",
        "\n",
        "**Workflow-**\n",
        "\n",
        "customer_dataset --> Data Pre Processing --> Data Analysis --> Defining in how many clusters we want to split our dataset(WCSS-Within Cluster Sum of Square) --> Clustering Algorithm --> Visualize the cluster."
      ],
      "metadata": {
        "id": "BTIHmitdkhdT"
      },
      "id": "BTIHmitdkhdT"
    },
    {
      "cell_type": "code",
      "source": [
        "#Importing Dependancies\n",
        "import numpy as np\n",
        "import pandas as pd\n",
        "import matplotlib.pyplot as plt\n",
        "import seaborn as sns\n",
        "from sklearn.cluster import KMeans\n",
        "from sklearn.neighbors import NearestNeighbors\n"
      ],
      "metadata": {
        "id": "rpdpwxn2nakQ"
      },
      "id": "rpdpwxn2nakQ",
      "execution_count": null,
      "outputs": []
    },
    {
      "cell_type": "code",
      "source": [
        "customer_data = pd.read_csv('/content/Mall_Customers.csv')"
      ],
      "metadata": {
        "id": "PC_oo7zYnghm"
      },
      "id": "PC_oo7zYnghm",
      "execution_count": null,
      "outputs": []
    },
    {
      "cell_type": "code",
      "source": [
        "print(customer_data)"
      ],
      "metadata": {
        "id": "moF7kMgCn-zp"
      },
      "id": "moF7kMgCn-zp",
      "execution_count": null,
      "outputs": []
    },
    {
      "cell_type": "code",
      "source": [
        "customer_data.shape  #It will give number of rows and columns"
      ],
      "metadata": {
        "id": "dWNneir2oApY"
      },
      "id": "dWNneir2oApY",
      "execution_count": null,
      "outputs": []
    },
    {
      "cell_type": "code",
      "source": [
        "customer_data.info()"
      ],
      "metadata": {
        "id": "m3Zja4qtoLbL"
      },
      "id": "m3Zja4qtoLbL",
      "execution_count": null,
      "outputs": []
    },
    {
      "cell_type": "code",
      "source": [
        "#Checking for missing values in a dataset\n",
        "#There is no null value\n",
        "customer_data.isnull().sum()"
      ],
      "metadata": {
        "id": "CRkIDF4CoYAw"
      },
      "id": "CRkIDF4CoYAw",
      "execution_count": null,
      "outputs": []
    },
    {
      "cell_type": "code",
      "source": [
        "customer_data.head() #Here in dataset we have 5 columns."
      ],
      "metadata": {
        "id": "_lQdD8FAomYR"
      },
      "id": "_lQdD8FAomYR",
      "execution_count": null,
      "outputs": []
    },
    {
      "cell_type": "code",
      "source": [
        "#We will consider only 3rd and 4th column for training the clustering model\n",
        "customer_data = customer_data.drop(['CustomerID','Genre','Age'],axis=1)"
      ],
      "metadata": {
        "id": "o1qmur43pTWo"
      },
      "id": "o1qmur43pTWo",
      "execution_count": null,
      "outputs": []
    },
    {
      "cell_type": "code",
      "source": [
        "customer_data.head() #Here notice that columns - 'CustomerID','Genre' and 'Age' will be removed or dropped"
      ],
      "metadata": {
        "id": "PVtMXmMOqk_K"
      },
      "id": "PVtMXmMOqk_K",
      "execution_count": null,
      "outputs": []
    },
    {
      "cell_type": "markdown",
      "source": [
        "**Choosing the number of Clusters:**\n",
        "\n",
        "There are 200 datapoints in our dataset. We dont know the number of clusters that can this dataset be divided.So for deciding the number of clusters we use (Within Clusters Sum of Squares - WCSS)\n",
        "\n",
        "In WCSS, It finds the distance between each datapoint and cetroid of the cluster.So to be a good cluster,the value of WCSS should be less.\n"
      ],
      "metadata": {
        "id": "iYG9L9sMrFru"
      },
      "id": "iYG9L9sMrFru"
    },
    {
      "cell_type": "code",
      "source": [
        "#Finding WCSS values for different number of clusters\n",
        "#random_state = 42 means everytime the code runs,data will be spitted the same way as it was splitted at the start.\n",
        "#n_clusters defines the total number of clusters\n",
        "wcss = []\n",
        "for i in range(1,11):\n",
        "  kmeans = KMeans(n_clusters=i,init='k-means++',random_state=42)\n",
        "  kmeans.fit(customer_data)\n",
        "  wcss.append(kmeans.inertia_)\n",
        "\n"
      ],
      "metadata": {
        "id": "T4XlPu-Wqt2d"
      },
      "id": "T4XlPu-Wqt2d",
      "execution_count": null,
      "outputs": []
    },
    {
      "cell_type": "code",
      "source": [
        "#Plotting an elbow graph\n",
        "#This elbow point graph will help us to determine the value of k\n",
        "#For this example we should take value of k as 5 because in elbow graph\n",
        "#because after value 5 , the change in wcss vlue is very minimal.\n",
        "sns.set()\n",
        "plt.plot(range(1,11), wcss)\n",
        "plt.title('The Elbow Point Graph')\n",
        "plt.xlabel('Number Of Clusters')\n",
        "plt.ylabel('wcss')\n",
        "plt.show"
      ],
      "metadata": {
        "id": "sKSp_AhZt8Yo"
      },
      "id": "sKSp_AhZt8Yo",
      "execution_count": null,
      "outputs": []
    },
    {
      "cell_type": "markdown",
      "source": [
        "**Optimum number of clusters are 5**"
      ],
      "metadata": {
        "id": "L3SFCH-Au015"
      },
      "id": "L3SFCH-Au015"
    },
    {
      "cell_type": "markdown",
      "source": [],
      "metadata": {
        "id": "ML8ttf3uS7UO"
      },
      "id": "ML8ttf3uS7UO"
    },
    {
      "cell_type": "markdown",
      "source": [
        "**Training the K-Means-Clustering Model-**"
      ],
      "metadata": {
        "id": "cyr2qKVIu7b4"
      },
      "id": "cyr2qKVIu7b4"
    },
    {
      "cell_type": "code",
      "source": [
        "#First create a k-means clustering model with name of \"k-means\"\n",
        "#n_clusters=5 means that we are defining no of clusters as 5\n",
        "#init='k-means++ is an optimization method which leads to better clustering result\n",
        "kmeans = KMeans(n_clusters=5,init='k-means++',random_state=30)\n",
        "#Now storing only two columns called 'Annual Income' and 'Spending Score' in customer_data\n",
        "customer_data = customer_data[['Annual Income (k$)', 'Spending Score (1-100)']]\n",
        "#Now fitting the k-means model to the selected features\n",
        "#It also predicts which cluster each customer belongs to\n",
        "customer_data['Cluster'] = kmeans.fit_predict(customer_data)\n",
        "#This line will create new column called \"Cluster\" in the customer_data Dataframe\n",
        "#Each customer row is assigned to a cluster number and stored in a column called 'Cluster'\n"
      ],
      "metadata": {
        "id": "un1w3BpyuQhL"
      },
      "id": "un1w3BpyuQhL",
      "execution_count": null,
      "outputs": []
    },
    {
      "cell_type": "code",
      "source": [
        "print(customer_data['Cluster'])  #This is the classification of each customer-dat into different cluster which is stored in column 'Cluster'"
      ],
      "metadata": {
        "id": "Sm6pbjcp2XXY"
      },
      "id": "Sm6pbjcp2XXY",
      "execution_count": null,
      "outputs": []
    },
    {
      "cell_type": "code",
      "source": [
        "# plotting all the clusters and their Centroids\n",
        "\n",
        "X = customer_data.iloc[:,:].values\n",
        "y = customer_data['Cluster'].values\n",
        "plt.figure(figsize=(8,8))\n",
        "plt.scatter(X[y==0,0], X[y==0,1], s=50, c='green', label='Cluster 1')\n",
        "plt.scatter(X[y==1,0], X[y==1,1], s=50, c='red', label='Cluster 2')\n",
        "plt.scatter(X[y==2,0], X[y==2,1], s=50, c='yellow', label='Cluster 3')\n",
        "plt.scatter(X[y==3,0], X[y==3,1], s=50, c='violet', label='Cluster 4')\n",
        "plt.scatter(X[y==4,0], X[y==4,1], s=50, c='blue', label='Cluster 5')\n",
        "\n",
        "# plot the centroids\n",
        "plt.scatter(kmeans.cluster_centers_[:,0], kmeans.cluster_centers_[:,1], s=100, c='cyan', label='Centroids')\n",
        "\n",
        "plt.title('Customer Groups')\n",
        "plt.xlabel('Annual Income')\n",
        "plt.ylabel('Spending Score')\n",
        "plt.show()"
      ],
      "metadata": {
        "id": "NeOjuv-4L0J5"
      },
      "id": "NeOjuv-4L0J5",
      "execution_count": null,
      "outputs": []
    },
    {
      "cell_type": "markdown",
      "source": [
        "**Interactive System-**"
      ],
      "metadata": {
        "id": "-Ki_tOaSOjvh"
      },
      "id": "-Ki_tOaSOjvh"
    },
    {
      "cell_type": "code",
      "source": [
        "\n",
        "# Interactive Prediction Function\n",
        "def predict_cluster(annual_income, spending_score):\n",
        "    new_data = np.array([[annual_income, spending_score]])\n",
        "    #Now predicting the cluster\n",
        "    cluster_label = kmeans.predict(new_data)[0]\n",
        "    cluster_color = cluster_colors[cluster_label]\n",
        "\n",
        "    print(f\"The user belongs to **Cluster {cluster_label + 1}** with color **{cluster_color}**\")\n",
        "    return cluster_label, cluster_color\n",
        "\n",
        "# Take user input\n",
        "income = float(input(\"Enter Annual Income: \"))\n",
        "score = float(input(\"Enter Spending Score: \"))\n",
        "\n",
        "# Predict and display result\n",
        "cluster, color = predict_cluster(income, score)\n",
        "print(f\"Predicted Cluster: {cluster + 1} (Color: {color})\")"
      ],
      "metadata": {
        "id": "xD85rO7mOn1h"
      },
      "id": "xD85rO7mOn1h",
      "execution_count": null,
      "outputs": []
    },
    {
      "cell_type": "markdown",
      "source": [
        "**Evaluating the K-Means Clustering Model-**\n",
        "\n",
        "For evaluating the unsuervised k-means clustering algorithm , we use **\"Within Cluster Sum of Square(WCSS)\".**  If WCSS is high it means clusters are not well-separated and if WCSS is low , the clusters are compact and well-formed."
      ],
      "metadata": {
        "id": "TAFqs6zK3TJv"
      },
      "id": "TAFqs6zK3TJv"
    },
    {
      "cell_type": "code",
      "source": [
        "print(\"WCSS(Inertia):\",kmeans.inertia_)"
      ],
      "metadata": {
        "id": "ljw1zGsA3Vev"
      },
      "id": "ljw1zGsA3Vev",
      "execution_count": null,
      "outputs": []
    },
    {
      "cell_type": "markdown",
      "source": [
        "**Silhoulette Score-**\n",
        "\n",
        "This score measures how well a data point fits within its cluster and range of Silhoulette Score is (-1,1)"
      ],
      "metadata": {
        "id": "bBWOBz4D4HMM"
      },
      "id": "bBWOBz4D4HMM"
    },
    {
      "cell_type": "code",
      "source": [
        "from sklearn.metrics import silhouette_score\n",
        "\n",
        "silhouette_avg = silhouette_score(customer_data[['Annual Income (k$)', 'Spending Score (1-100)']], customer_data['Cluster'])\n",
        "print(\"Silhouette Score:\", silhouette_avg)"
      ],
      "metadata": {
        "id": "tUa1WCLO3_gU"
      },
      "id": "tUa1WCLO3_gU",
      "execution_count": null,
      "outputs": []
    },
    {
      "cell_type": "markdown",
      "source": [
        "**Applying Hierarchical Clustering(Agglomerative Clustering)-**"
      ],
      "metadata": {
        "id": "JO9kfq20-Y4k"
      },
      "id": "JO9kfq20-Y4k"
    },
    {
      "cell_type": "code",
      "source": [
        "from sklearn.cluster import AgglomerativeClustering\n",
        "\n",
        "agg_clustering = AgglomerativeClustering(n_clusters=5, linkage='ward')\n",
        "customer_data['Cluster'] = agg_clustering.fit_predict(customer_data[['Annual Income (k$)', 'Spending Score (1-100)']])\n"
      ],
      "metadata": {
        "id": "KBuHcCkw-yto"
      },
      "id": "KBuHcCkw-yto",
      "execution_count": null,
      "outputs": []
    },
    {
      "cell_type": "code",
      "source": [
        "#Now visualizing Dendrogram\n",
        "import scipy.cluster.hierarchy as sch\n",
        "\n",
        "plt.figure(figsize=(10, 5))\n",
        "dendrogram = sch.dendrogram(sch.linkage(customer_data[['Annual Income (k$)', 'Spending Score (1-100)']], method='ward'))\n",
        "plt.title('Dendrogram')\n",
        "plt.xlabel('Customers')\n",
        "plt.ylabel('Distance')\n",
        "plt.show()\n"
      ],
      "metadata": {
        "id": "mqjtCSnG-3BY"
      },
      "id": "mqjtCSnG-3BY",
      "execution_count": null,
      "outputs": []
    },
    {
      "cell_type": "markdown",
      "source": [
        "**Evaluating the Hierarchical Clustering Model-**\n"
      ],
      "metadata": {
        "id": "JUraltT4_Gz3"
      },
      "id": "JUraltT4_Gz3"
    },
    {
      "cell_type": "code",
      "source": [
        "from sklearn.metrics import silhouette_score\n",
        "import numpy as np\n",
        "\n",
        "# Extract only features (Annual Income & Spending Score)\n",
        "data_array = customer_data[['Annual Income (k$)', 'Spending Score (1-100)']].values\n",
        "\n",
        "# Extract cluster labels\n",
        "labels = customer_data['Cluster'].values\n",
        "\n",
        "# Compute Silhouette Score\n",
        "silhouette_avg = silhouette_score(data_array, labels)\n",
        "print(f\"Silhouette Score: {silhouette_avg:.4f}\")\n"
      ],
      "metadata": {
        "id": "2FVZwYxi-8n3"
      },
      "id": "2FVZwYxi-8n3",
      "execution_count": null,
      "outputs": []
    },
    {
      "cell_type": "markdown",
      "source": [
        "**Applying DBSCAN-Density Based Spatial clustering of application with noise-**"
      ],
      "metadata": {
        "id": "xJswz_WjAn_D"
      },
      "id": "xJswz_WjAn_D"
    },
    {
      "cell_type": "code",
      "source": [
        "from sklearn.cluster import DBSCAN\n",
        "#eps=Maximum distance between points to be cosidered part of a cluster\n",
        "#min_sample=Minimum points required to form a cluster\n",
        "dbscan = DBSCAN(eps=5, min_samples=5)\n",
        "customer_data['Cluster'] = dbscan.fit_predict(customer_data[['Annual Income (k$)', 'Spending Score (1-100)']])\n"
      ],
      "metadata": {
        "id": "Fx2tPzg7A4Jy"
      },
      "id": "Fx2tPzg7A4Jy",
      "execution_count": null,
      "outputs": []
    },
    {
      "cell_type": "markdown",
      "source": [
        "**Evaluating DBSCSN Model-**"
      ],
      "metadata": {
        "id": "LPl9MkA9BsA2"
      },
      "id": "LPl9MkA9BsA2"
    },
    {
      "cell_type": "code",
      "source": [
        "from sklearn.metrics import silhouette_score\n",
        "import numpy as np\n",
        "\n",
        "# Extract feature data\n",
        "data_array = customer_data[['Annual Income (k$)', 'Spending Score (1-100)']].values\n",
        "labels = customer_data['Cluster'].values\n",
        "\n",
        "# Exclude noise points (-1)\n",
        "mask = labels != -1\n",
        "filtered_data = data_array[mask]\n",
        "filtered_labels = labels[mask]\n",
        "\n",
        "# Compute silhouette score if at least 2 clusters exist\n",
        "if len(np.unique(filtered_labels)) > 1:\n",
        "    silhouette_avg = silhouette_score(filtered_data, filtered_labels)\n",
        "    print(f\"Silhouette Score: {silhouette_avg:.4f}\")\n",
        "else:\n",
        "    print(\"Silhouette Score cannot be computed (only one cluster detected).\")\n"
      ],
      "metadata": {
        "id": "1AN769nuBvC-"
      },
      "id": "1AN769nuBvC-",
      "execution_count": null,
      "outputs": []
    },
    {
      "cell_type": "markdown",
      "source": [
        "**We got Silhouett score for k-means as 0.553931997444648 , Hierarchical clustering as 0.5530 and DBSCN as 0.6182.**\n",
        "\n",
        "**Higher the value of Silhouett score (near to 1) indicates better clustering. We have higher Sil.Val. for DBSCAN algorithm so DBSCAN algorithm is best for the Customer Segmentation Problm.**"
      ],
      "metadata": {
        "id": "9Pu7W40IDKeh"
      },
      "id": "9Pu7W40IDKeh"
    }
  ],
  "metadata": {
    "colab": {
      "provenance": [],
      "include_colab_link": true
    },
    "kaggle": {
      "accelerator": "none",
      "dataSources": [
        {
          "datasetId": 818300,
          "sourceId": 1400440,
          "sourceType": "datasetVersion"
        }
      ],
      "isGpuEnabled": false,
      "isInternetEnabled": true,
      "language": "python",
      "sourceType": "notebook"
    },
    "kernelspec": {
      "display_name": "Python 3",
      "name": "python3"
    },
    "language_info": {
      "codemirror_mode": {
        "name": "ipython",
        "version": 3
      },
      "file_extension": ".py",
      "mimetype": "text/x-python",
      "name": "python",
      "nbconvert_exporter": "python",
      "pygments_lexer": "ipython3",
      "version": "3.10.12"
    },
    "papermill": {
      "default_parameters": {},
      "duration": 5.971518,
      "end_time": "2025-03-07T10:02:11.271277",
      "environment_variables": {},
      "exception": true,
      "input_path": "__notebook__.ipynb",
      "output_path": "__notebook__.ipynb",
      "parameters": {},
      "start_time": "2025-03-07T10:02:05.299759",
      "version": "2.6.0"
    }
  },
  "nbformat": 4,
  "nbformat_minor": 5
}
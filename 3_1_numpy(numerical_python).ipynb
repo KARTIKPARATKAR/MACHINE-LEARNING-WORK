{
  "nbformat": 4,
  "nbformat_minor": 0,
  "metadata": {
    "colab": {
      "provenance": [],
      "authorship_tag": "ABX9TyPjKp9JH1xsN2z/T8HkWLLv",
      "include_colab_link": true
    },
    "kernelspec": {
      "name": "python3",
      "display_name": "Python 3"
    },
    "language_info": {
      "name": "python"
    }
  },
  "cells": [
    {
      "cell_type": "markdown",
      "metadata": {
        "id": "view-in-github",
        "colab_type": "text"
      },
      "source": [
        "<a href=\"https://colab.research.google.com/github/KARTIKPARATKAR/MY-MACHINE-LEARNING-WORK/blob/main/3_1_numpy(numerical_python).ipynb\" target=\"_parent\"><img src=\"https://colab.research.google.com/assets/colab-badge.svg\" alt=\"Open In Colab\"/></a>"
      ]
    },
    {
      "cell_type": "code",
      "execution_count": 1,
      "metadata": {
        "id": "A082wNaB8qMT"
      },
      "outputs": [],
      "source": [
        "import numpy as np          #importing numpy as np"
      ]
    },
    {
      "cell_type": "markdown",
      "source": [
        "This is checking whether python list takes more time than numpy array or not."
      ],
      "metadata": {
        "id": "XE0MqaMdXenF"
      }
    },
    {
      "cell_type": "code",
      "source": [
        "pylist=[i for i in range(100000)]\n",
        "from time import process_time\n",
        "tstart=process_time()\n",
        "pylist=[i+5 for i in pylist]\n",
        "tend=process_time()\n",
        "print(tend-tstart)   #This is for python list"
      ],
      "metadata": {
        "colab": {
          "base_uri": "https://localhost:8080/"
        },
        "id": "lwr6wQi8XmlI",
        "outputId": "c0c6d99b-3b22-40db-8dcc-7a477cab6b6a"
      },
      "execution_count": 2,
      "outputs": [
        {
          "output_type": "stream",
          "name": "stdout",
          "text": [
            "0.013889154999999986\n"
          ]
        }
      ]
    },
    {
      "cell_type": "code",
      "source": [
        "p=np.array([i for i in range(100000)])\n",
        "from time import process_time\n",
        "t1=process_time()\n",
        "p=p+5\n",
        "t2=process_time()\n",
        "print(t2-t1)       #This time is for numpy array\n",
        "#Surely we can conclude that numpy array takes less time to do any operation than normal python list"
      ],
      "metadata": {
        "colab": {
          "base_uri": "https://localhost:8080/"
        },
        "id": "MOrobtXeYPo1",
        "outputId": "1bf80664-cd29-453b-86b7-efed9241dd79"
      },
      "execution_count": 3,
      "outputs": [
        {
          "output_type": "stream",
          "name": "stdout",
          "text": [
            "0.0004961639999998546\n"
          ]
        }
      ]
    },
    {
      "cell_type": "code",
      "source": [
        "#declaring list\n",
        "list1=[1,2,3,4,5]\n",
        "print(list1)          #This will give the elements of an list separated by quamas\n",
        "type(list)\n",
        "nparray=np.array([1,2,3,4,5])\n",
        "print(nparray)      #This will give the elements of an numpy array without quamas.Numpy arrays are like matrices\n",
        "type(nparray)"
      ],
      "metadata": {
        "colab": {
          "base_uri": "https://localhost:8080/"
        },
        "id": "Ky5AR536aOOI",
        "outputId": "7dff07e7-134c-4308-d710-800c7e16c35e"
      },
      "execution_count": 4,
      "outputs": [
        {
          "output_type": "stream",
          "name": "stdout",
          "text": [
            "[1, 2, 3, 4, 5]\n",
            "[1 2 3 4 5]\n"
          ]
        },
        {
          "output_type": "execute_result",
          "data": {
            "text/plain": [
              "numpy.ndarray"
            ]
          },
          "metadata": {},
          "execution_count": 4
        }
      ]
    },
    {
      "cell_type": "code",
      "source": [
        "#creating one directional array\n",
        "a=np.array([1,2,3,4])\n",
        "print(a)\n",
        "type(a)"
      ],
      "metadata": {
        "colab": {
          "base_uri": "https://localhost:8080/"
        },
        "id": "8c3ghaTnazSR",
        "outputId": "1b97650a-6fc4-44ed-fce3-1e305227bad7"
      },
      "execution_count": 5,
      "outputs": [
        {
          "output_type": "stream",
          "name": "stdout",
          "text": [
            "[1 2 3 4]\n"
          ]
        },
        {
          "output_type": "execute_result",
          "data": {
            "text/plain": [
              "numpy.ndarray"
            ]
          },
          "metadata": {},
          "execution_count": 5
        }
      ]
    },
    {
      "cell_type": "code",
      "source": [
        "a.shape    #this shape function gives the dimensions of numpy array.Here in this case we have 4*1 array."
      ],
      "metadata": {
        "colab": {
          "base_uri": "https://localhost:8080/"
        },
        "id": "3CiiKlprbuOz",
        "outputId": "56063641-ad30-4e86-d4a9-a4ae2c8e39c9"
      },
      "execution_count": 6,
      "outputs": [
        {
          "output_type": "execute_result",
          "data": {
            "text/plain": [
              "(4,)"
            ]
          },
          "metadata": {},
          "execution_count": 6
        }
      ]
    },
    {
      "cell_type": "code",
      "source": [
        "#creating 2d array\n",
        "b=np.array([(1,2,3,4,5),(6,3,7,4,1)])\n",
        "print(b)\n",
        "b.shape    #This shape function will guve the shape of this numpy array matix as 2*"
      ],
      "metadata": {
        "colab": {
          "base_uri": "https://localhost:8080/"
        },
        "id": "abJ-D6mwb9JM",
        "outputId": "9e2a0da2-88ab-4577-d71b-a8a2583e6adb"
      },
      "execution_count": 7,
      "outputs": [
        {
          "output_type": "stream",
          "name": "stdout",
          "text": [
            "[[1 2 3 4 5]\n",
            " [6 3 7 4 1]]\n"
          ]
        },
        {
          "output_type": "execute_result",
          "data": {
            "text/plain": [
              "(2, 5)"
            ]
          },
          "metadata": {},
          "execution_count": 7
        }
      ]
    },
    {
      "cell_type": "code",
      "source": [
        "c=np.array([(1,2,3,4.3),(2,1.6,3.4,2)],dtype=float)   #By mentioning dt=float,we can create the nparay as float\n",
        "print(c)"
      ],
      "metadata": {
        "colab": {
          "base_uri": "https://localhost:8080/"
        },
        "id": "dv9nZAqrcs9Q",
        "outputId": "9498751c-f718-4332-9ade-85dff6434d5f"
      },
      "execution_count": 8,
      "outputs": [
        {
          "output_type": "stream",
          "name": "stdout",
          "text": [
            "[[1.  2.  3.  4.3]\n",
            " [2.  1.6 3.4 2. ]]\n"
          ]
        }
      ]
    },
    {
      "cell_type": "markdown",
      "source": [
        "Placeholders in numpy-array\n"
      ],
      "metadata": {
        "id": "51G9ZJEed_ba"
      }
    },
    {
      "cell_type": "code",
      "source": [
        "#create numpy array of zeroes\n",
        "d=np.zeros([5,6])   #This will create the array of 5*6 dimension having all the values as 0.\n",
        "print(d)"
      ],
      "metadata": {
        "colab": {
          "base_uri": "https://localhost:8080/"
        },
        "id": "nRkA7YBaeCCL",
        "outputId": "c750731e-16f6-4ebc-a3ff-9c794d288ca8"
      },
      "execution_count": 9,
      "outputs": [
        {
          "output_type": "stream",
          "name": "stdout",
          "text": [
            "[[0. 0. 0. 0. 0. 0.]\n",
            " [0. 0. 0. 0. 0. 0.]\n",
            " [0. 0. 0. 0. 0. 0.]\n",
            " [0. 0. 0. 0. 0. 0.]\n",
            " [0. 0. 0. 0. 0. 0.]]\n"
          ]
        }
      ]
    },
    {
      "cell_type": "code",
      "source": [
        "#create numpy array of ones\n",
        "e=np.ones([3,4])  #This will create the numpy arry of ones having dimension as 3*4\n",
        "print(e)"
      ],
      "metadata": {
        "colab": {
          "base_uri": "https://localhost:8080/"
        },
        "id": "3IXUjgGaeY6Y",
        "outputId": "04de8a2c-cd72-4328-8420-49ab2694b479"
      },
      "execution_count": 10,
      "outputs": [
        {
          "output_type": "stream",
          "name": "stdout",
          "text": [
            "[[1. 1. 1. 1.]\n",
            " [1. 1. 1. 1.]\n",
            " [1. 1. 1. 1.]]\n"
          ]
        }
      ]
    },
    {
      "cell_type": "code",
      "source": [
        "#create numpy array of any value\n",
        "e=np.full([4,5],5)  #This will create the array of dimenson 4*5 having all the values as 5\n",
        "print(e)"
      ],
      "metadata": {
        "colab": {
          "base_uri": "https://localhost:8080/"
        },
        "id": "-a_gIh_6e7xW",
        "outputId": "aeae0fc4-a542-4e85-c128-9e47a4fd2c41"
      },
      "execution_count": 11,
      "outputs": [
        {
          "output_type": "stream",
          "name": "stdout",
          "text": [
            "[[5 5 5 5 5]\n",
            " [5 5 5 5 5]\n",
            " [5 5 5 5 5]\n",
            " [5 5 5 5 5]]\n"
          ]
        }
      ]
    },
    {
      "cell_type": "code",
      "source": [
        "#creating identity matrix having all the digonal values as one and other vales as 1\n",
        "f=np.eye(5)   #this will give identity matrix of 5*5\n",
        "print(f)"
      ],
      "metadata": {
        "colab": {
          "base_uri": "https://localhost:8080/"
        },
        "id": "yTT2VXGifcGu",
        "outputId": "299d20fb-0377-4d3e-e2f7-6689ecb3ffab"
      },
      "execution_count": 12,
      "outputs": [
        {
          "output_type": "stream",
          "name": "stdout",
          "text": [
            "[[1. 0. 0. 0. 0.]\n",
            " [0. 1. 0. 0. 0.]\n",
            " [0. 0. 1. 0. 0.]\n",
            " [0. 0. 0. 1. 0.]\n",
            " [0. 0. 0. 0. 1.]]\n"
          ]
        }
      ]
    },
    {
      "cell_type": "code",
      "source": [
        "#creating numpy array with random value\n",
        "g=np.random.random([3,4])\n",
        "print(g)                  #here all the random values are between 0 and 1"
      ],
      "metadata": {
        "colab": {
          "base_uri": "https://localhost:8080/"
        },
        "id": "bknurTthgBSn",
        "outputId": "955cbb6d-343a-4a3b-918e-fc48ec3d1c20"
      },
      "execution_count": 13,
      "outputs": [
        {
          "output_type": "stream",
          "name": "stdout",
          "text": [
            "[[0.27440159 0.22197781 0.667234   0.00677522]\n",
            " [0.70413388 0.70013694 0.99041544 0.21953648]\n",
            " [0.17801777 0.62273834 0.13867509 0.4118813 ]]\n"
          ]
        }
      ]
    },
    {
      "cell_type": "code",
      "source": [
        "#creating numpy array with random values on greatwe than 1\n",
        "h=np.random.randint(10,199,[3,4])  #random values will be between 10 and 199 having dimension of array 3*4\n",
        "print(h)"
      ],
      "metadata": {
        "colab": {
          "base_uri": "https://localhost:8080/"
        },
        "id": "RGLvyVlTgW1O",
        "outputId": "38b22666-3268-44d9-b1aa-15f4fc6485d7"
      },
      "execution_count": 14,
      "outputs": [
        {
          "output_type": "stream",
          "name": "stdout",
          "text": [
            "[[ 27 167  16 169]\n",
            " [ 56 127 186  88]\n",
            " [ 29 124  33 184]]\n"
          ]
        }
      ]
    },
    {
      "cell_type": "code",
      "source": [
        "#creating array of evenly spaced values\n",
        "i=np.linspace(10,210,5)  #Creating array of random numbers having evenly spaced between 10 to 210 which contains 5 numbers\n",
        "print(i)"
      ],
      "metadata": {
        "colab": {
          "base_uri": "https://localhost:8080/"
        },
        "id": "qABnqw82g6zt",
        "outputId": "60c588ea-00df-4b00-b65e-1d732b6d56c0"
      },
      "execution_count": 15,
      "outputs": [
        {
          "output_type": "stream",
          "name": "stdout",
          "text": [
            "[ 10.  60. 110. 160. 210.]\n"
          ]
        }
      ]
    },
    {
      "cell_type": "code",
      "source": [
        "#creating array of evenly spaced values having steps\n",
        "j=np.arange(10,30,5)   #Creating array of random numbers having spaced 5 between 10 and 30\n",
        "print(j)"
      ],
      "metadata": {
        "colab": {
          "base_uri": "https://localhost:8080/"
        },
        "id": "o5N7C8c8hpWP",
        "outputId": "f72d30f0-f40b-4fec-85da-9a2be865c845"
      },
      "execution_count": 16,
      "outputs": [
        {
          "output_type": "stream",
          "name": "stdout",
          "text": [
            "[10 15 20 25]\n"
          ]
        }
      ]
    },
    {
      "cell_type": "code",
      "source": [
        "#convert list to an numpy array\n",
        "l2=[10,20,30,40,50]\n",
        "k=np.asarray(l2)  #This is a function to convert list to numpy array\n",
        "print(k)\n",
        "type(k)"
      ],
      "metadata": {
        "colab": {
          "base_uri": "https://localhost:8080/"
        },
        "id": "cyw9kksUipau",
        "outputId": "da1a1826-0ce5-491c-ac4f-f1e0afbb14c6"
      },
      "execution_count": 17,
      "outputs": [
        {
          "output_type": "stream",
          "name": "stdout",
          "text": [
            "[10 20 30 40 50]\n"
          ]
        },
        {
          "output_type": "execute_result",
          "data": {
            "text/plain": [
              "numpy.ndarray"
            ]
          },
          "metadata": {},
          "execution_count": 17
        }
      ]
    },
    {
      "cell_type": "markdown",
      "source": [
        "Analyzing numpy array"
      ],
      "metadata": {
        "id": "Nda9ozlbjynk"
      }
    },
    {
      "cell_type": "code",
      "source": [
        "m = np.random.randint(10,100,(4,4))\n",
        "print(m)"
      ],
      "metadata": {
        "colab": {
          "base_uri": "https://localhost:8080/"
        },
        "id": "clIwOGkQjZoW",
        "outputId": "183c6af2-df26-4a51-a234-2463feb87117"
      },
      "execution_count": 18,
      "outputs": [
        {
          "output_type": "stream",
          "name": "stdout",
          "text": [
            "[[57 74 62 41]\n",
            " [81 27 85 24]\n",
            " [22 52 81 76]\n",
            " [20 53 53 60]]\n"
          ]
        }
      ]
    },
    {
      "cell_type": "code",
      "source": [
        "#array dimension\n",
        "m.shape"
      ],
      "metadata": {
        "colab": {
          "base_uri": "https://localhost:8080/"
        },
        "id": "h3HSfbGIkFcp",
        "outputId": "f4ac7379-dd3c-4ae1-a0a8-b5224f6e44fc"
      },
      "execution_count": 19,
      "outputs": [
        {
          "output_type": "execute_result",
          "data": {
            "text/plain": [
              "(4, 4)"
            ]
          },
          "metadata": {},
          "execution_count": 19
        }
      ]
    },
    {
      "cell_type": "code",
      "source": [
        "#no of dimension\n",
        "m.ndim   #m is a 2 dimensional array"
      ],
      "metadata": {
        "colab": {
          "base_uri": "https://localhost:8080/"
        },
        "id": "-LV5DOKTkl6O",
        "outputId": "f0b78820-18f3-4a66-e906-ecf01be26138"
      },
      "execution_count": 20,
      "outputs": [
        {
          "output_type": "execute_result",
          "data": {
            "text/plain": [
              "2"
            ]
          },
          "metadata": {},
          "execution_count": 20
        }
      ]
    },
    {
      "cell_type": "code",
      "source": [
        "#no of elements in array\n",
        "m.size"
      ],
      "metadata": {
        "colab": {
          "base_uri": "https://localhost:8080/"
        },
        "id": "VVk7GSN8ksYo",
        "outputId": "1f8c0fc1-0f97-48ad-f4d4-b296825464b0"
      },
      "execution_count": 21,
      "outputs": [
        {
          "output_type": "execute_result",
          "data": {
            "text/plain": [
              "16"
            ]
          },
          "metadata": {},
          "execution_count": 21
        }
      ]
    },
    {
      "cell_type": "code",
      "source": [
        "#data types of values in array\n",
        "m.dtype"
      ],
      "metadata": {
        "colab": {
          "base_uri": "https://localhost:8080/"
        },
        "id": "cynTTh6ak6oq",
        "outputId": "f885e009-6f38-4170-da76-2ced77224b22"
      },
      "execution_count": 22,
      "outputs": [
        {
          "output_type": "execute_result",
          "data": {
            "text/plain": [
              "dtype('int64')"
            ]
          },
          "metadata": {},
          "execution_count": 22
        }
      ]
    },
    {
      "cell_type": "markdown",
      "source": [
        "Mathematical operations that can be performed on array"
      ],
      "metadata": {
        "id": "8fa-nUvUlEFX"
      }
    },
    {
      "cell_type": "code",
      "source": [
        "li=[1,2,3,4,5]\n",
        "li2=[6,7,8,9,10]\n",
        "print(li+li2)   #In case of python list, + symbol means that you concatinate two lists. This + symbol doesnt add the elements index wise"
      ],
      "metadata": {
        "colab": {
          "base_uri": "https://localhost:8080/"
        },
        "id": "dfipLBd7lL62",
        "outputId": "e8673c06-a000-4426-b418-754e0adb323d"
      },
      "execution_count": 23,
      "outputs": [
        {
          "output_type": "stream",
          "name": "stdout",
          "text": [
            "[1, 2, 3, 4, 5, 6, 7, 8, 9, 10]\n"
          ]
        }
      ]
    },
    {
      "cell_type": "code",
      "source": [
        "n=np.array([1,2,3,4,5,6])\n",
        "o=np.array([7,5,6,8,1,2])\n",
        "print(n+o)    #In case of numpy array, + symbol means that you are adding elements index wise. This is also known as numpy array addition."
      ],
      "metadata": {
        "colab": {
          "base_uri": "https://localhost:8080/"
        },
        "id": "FQU1KUtllVz2",
        "outputId": "8c518b1d-d3ab-44e7-b6b8-16a1062fec79"
      },
      "execution_count": 24,
      "outputs": [
        {
          "output_type": "stream",
          "name": "stdout",
          "text": [
            "[ 8  7  9 12  6  8]\n"
          ]
        }
      ]
    },
    {
      "cell_type": "code",
      "source": [
        "print(n+o) #nparray addition\n",
        "print(n-o) #nparray subtraction\n",
        "print(n*o) #nparray multiplication\n",
        "print(n/o) #nparray division\n"
      ],
      "metadata": {
        "colab": {
          "base_uri": "https://localhost:8080/"
        },
        "id": "urg4bD0fl6di",
        "outputId": "71bcff0c-3a5f-4bd7-9bd5-b9c14514cd8e"
      },
      "execution_count": 25,
      "outputs": [
        {
          "output_type": "stream",
          "name": "stdout",
          "text": [
            "[ 8  7  9 12  6  8]\n",
            "[-6 -3 -3 -4  4  4]\n",
            "[ 7 10 18 32  5 12]\n",
            "[0.14285714 0.4        0.5        0.5        5.         3.        ]\n"
          ]
        }
      ]
    },
    {
      "cell_type": "markdown",
      "source": [
        "Array manupulation"
      ],
      "metadata": {
        "id": "B8vR0EQ_nOyg"
      }
    },
    {
      "cell_type": "code",
      "source": [
        "p=np.random.randint(0,20,(2,4))\n",
        "print(p)\n",
        "print(p.shape)"
      ],
      "metadata": {
        "colab": {
          "base_uri": "https://localhost:8080/"
        },
        "id": "VRxckAiunRvc",
        "outputId": "f7fe496c-bd76-4649-9664-6a00da8e0423"
      },
      "execution_count": 26,
      "outputs": [
        {
          "output_type": "stream",
          "name": "stdout",
          "text": [
            "[[ 1  6 15  3]\n",
            " [19  4 13 17]]\n",
            "(2, 4)\n"
          ]
        }
      ]
    },
    {
      "cell_type": "code",
      "source": [
        "#transpose of matrix\n",
        "q=np.transpose(p)\n",
        "print(q)\n",
        "print(q.shape)"
      ],
      "metadata": {
        "colab": {
          "base_uri": "https://localhost:8080/"
        },
        "id": "JfEyj0fSnfj-",
        "outputId": "70589899-d9cb-41d8-d932-0b9e082c74bb"
      },
      "execution_count": 27,
      "outputs": [
        {
          "output_type": "stream",
          "name": "stdout",
          "text": [
            "[[ 1 19]\n",
            " [ 6  4]\n",
            " [15 13]\n",
            " [ 3 17]]\n",
            "(4, 2)\n"
          ]
        }
      ]
    },
    {
      "cell_type": "code",
      "source": [
        "#reshaping array\n",
        "r=np.random.randint(10,40,(3,4))\n",
        "print(r)\n",
        "print(r.shape)\n",
        "s=r.reshape(4,3)\n",
        "print(s)\n",
        "print(s.shape)"
      ],
      "metadata": {
        "colab": {
          "base_uri": "https://localhost:8080/"
        },
        "id": "bK_LjxT6rbBv",
        "outputId": "22795303-e238-43a6-a2f8-242c904f56cf"
      },
      "execution_count": 28,
      "outputs": [
        {
          "output_type": "stream",
          "name": "stdout",
          "text": [
            "[[19 11 20 21]\n",
            " [17 22 23 10]\n",
            " [32 19 37 27]]\n",
            "(3, 4)\n",
            "[[19 11 20]\n",
            " [21 17 22]\n",
            " [23 10 32]\n",
            " [19 37 27]]\n",
            "(4, 3)\n"
          ]
        }
      ]
    },
    {
      "cell_type": "code",
      "source": [],
      "metadata": {
        "id": "iWEHYirRrzAe"
      },
      "execution_count": 28,
      "outputs": []
    }
  ]
}
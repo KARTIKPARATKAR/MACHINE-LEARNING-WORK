{
  "cells": [
    {
      "cell_type": "markdown",
      "metadata": {
        "id": "view-in-github",
        "colab_type": "text"
      },
      "source": [
        "<a href=\"https://colab.research.google.com/github/KARTIKPARATKAR/MACHINE-LEARNING-WORK/blob/main/ConfusionMatrix(Precision_Recall_F1Score).ipynb\" target=\"_parent\"><img src=\"https://colab.research.google.com/assets/colab-badge.svg\" alt=\"Open In Colab\"/></a>"
      ]
    },
    {
      "cell_type": "markdown",
      "source": [
        "**Accuracy Score-**\n",
        "\n",
        "It is the ratio of correct prediction to the total number of input data points.\n",
        "If we have 100 datapoints , we get 80 correct predictions then our accuracy score will be 80/100 = 0.8 . i.e.80%\n",
        "\n",
        "Accuracy score is not reliable when the dataset has an uneven distribution of classes.\n",
        "\n",
        "Uneven distribution of classes means if we have total 1000 datapoints among them 800 are of Dog and 200 are of Cat,then this dataset is unevenly distributed.\n",
        "\n",
        "If we have 1000 datapoints among them 500 are of Dog and 500 are of Cat,then this dataset is evenly distributed."
      ],
      "metadata": {
        "id": "pYL43uAiCmPF"
      },
      "id": "pYL43uAiCmPF"
    },
    {
      "cell_type": "markdown",
      "source": [
        "**Confusion Matrix-**\n",
        "\n",
        "It is a matrix used for evaluating the performance of a Classification Model. It gives more information than the accuracy score.\n",
        "\n",
        "TP - Correctly predicts positive class\n",
        "\n",
        "TN - Correctly predicting negative class\n",
        "\n",
        "FP - Incorrectly predicts positive class\n",
        "\n",
        "FN - Incorrectly predicts negative class\n",
        "\n",
        "\n",
        "TP + TN = These are correct predictions\n",
        "\n",
        "FP + FN = These are wrong predictions\n",
        "\n",
        "**Accuracy** - Accuracy measures how often the models predictions are correct overall.\n",
        "\n",
        "Accuracy = (TP + TN)/(TP + TN + FP + FN)\n",
        "\n",
        "**Precision-** Precision focuses on the quality of the models positive predictions.It measures out of the total predicted positive,how many are actually positive.\n",
        "\n",
        "Precision = TP/(TP+FP)\n",
        "\n",
        "**Recall-** Recall measures how well the model identifies all actual positive cases. It measures the error caused by False Negative\n",
        "\n",
        "Recall = TP/(TP + FN)\n",
        "\n",
        "**F1 Score-** F1 score is an important evaluation metric for binary classification that combines Precision&Recall. F1 score is the harmonic mean of precision and recall.\n",
        "\n",
        "F1 score = (2 * precision * recall)/(Precision + recall)"
      ],
      "metadata": {
        "id": "mY-B7UGmisSk"
      },
      "id": "mY-B7UGmisSk"
    }
  ],
  "metadata": {
    "colab": {
      "provenance": [],
      "include_colab_link": true
    },
    "kaggle": {
      "accelerator": "none",
      "dataSources": [
        {
          "datasetId": 818300,
          "sourceId": 1400440,
          "sourceType": "datasetVersion"
        }
      ],
      "isGpuEnabled": false,
      "isInternetEnabled": true,
      "language": "python",
      "sourceType": "notebook"
    },
    "kernelspec": {
      "display_name": "Python 3",
      "name": "python3"
    },
    "language_info": {
      "codemirror_mode": {
        "name": "ipython",
        "version": 3
      },
      "file_extension": ".py",
      "mimetype": "text/x-python",
      "name": "python",
      "nbconvert_exporter": "python",
      "pygments_lexer": "ipython3",
      "version": "3.10.12"
    },
    "papermill": {
      "default_parameters": {},
      "duration": 5.971518,
      "end_time": "2025-03-07T10:02:11.271277",
      "environment_variables": {},
      "exception": true,
      "input_path": "__notebook__.ipynb",
      "output_path": "__notebook__.ipynb",
      "parameters": {},
      "start_time": "2025-03-07T10:02:05.299759",
      "version": "2.6.0"
    }
  },
  "nbformat": 4,
  "nbformat_minor": 5
}
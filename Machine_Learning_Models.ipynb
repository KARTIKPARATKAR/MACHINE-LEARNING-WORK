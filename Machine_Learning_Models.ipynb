{
  "nbformat": 4,
  "nbformat_minor": 0,
  "metadata": {
    "colab": {
      "provenance": [],
      "authorship_tag": "ABX9TyPo4fsvKcqnhUPZ5j/4kpFK",
      "include_colab_link": true
    },
    "kernelspec": {
      "name": "python3",
      "display_name": "Python 3"
    },
    "language_info": {
      "name": "python"
    }
  },
  "cells": [
    {
      "cell_type": "markdown",
      "metadata": {
        "id": "view-in-github",
        "colab_type": "text"
      },
      "source": [
        "<a href=\"https://colab.research.google.com/github/KARTIKPARATKAR/MACHINE-LEARNING-WORK/blob/main/Machine_Learning_Models.ipynb\" target=\"_parent\"><img src=\"https://colab.research.google.com/assets/colab-badge.svg\" alt=\"Open In Colab\"/></a>"
      ]
    },
    {
      "cell_type": "markdown",
      "source": [
        "**Machine Learning:**\n",
        "\n",
        "1)Machine Learning Model\n",
        "\n",
        "2)Input Data\n",
        "\n",
        "\n",
        "We feed the data to machine learning model and this model learns from the input data and when we give unknown input data it gives response/output.\n",
        "\n",
        "Machine learning models will have input values and output values. We fit our ML model to these input and output values.\n",
        "\n",
        "When we use regression.fit() function ,it means that we are fitting our ML model to the available data.\n",
        "\n",
        "We can have a ML model equation as - y=mx + c\n",
        "When we give new input value i.e. x , then we will get some output value corresponfing to the input value i.e. y .\n",
        "\n",
        "\n",
        "\n",
        "\n",
        "A Machine Leaning Model is a function that tries to find the relationship between the features and the target varibles.\n",
        "\n",
        "\n",
        "Features are the x-input values with which the model is going to train on.\n",
        "\n",
        "Targets are the y-output values that model is going to predict after learning from the input-x-data.\n",
        "\n",
        "We have a Simple Linear Models which follows -\n",
        "y=mx+c equation and alongside this we also have polynomial model which follows- y=a+bx+cx^2 equation.\n",
        "\n",
        "We cannot have linear relationsip between the variables all the time."
      ],
      "metadata": {
        "id": "6WVVRLCdYdHS"
      }
    },
    {
      "cell_type": "code",
      "source": [],
      "metadata": {
        "id": "WtlVVjFYOqQg"
      },
      "execution_count": null,
      "outputs": []
    }
  ]
}
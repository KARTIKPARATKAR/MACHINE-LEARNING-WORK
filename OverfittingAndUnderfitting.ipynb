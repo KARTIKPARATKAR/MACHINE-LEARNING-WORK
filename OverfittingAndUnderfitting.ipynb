{
  "nbformat": 4,
  "nbformat_minor": 0,
  "metadata": {
    "colab": {
      "provenance": [],
      "authorship_tag": "ABX9TyOjsr7pl0K54S1DEG5VDKBK",
      "include_colab_link": true
    },
    "kernelspec": {
      "name": "python3",
      "display_name": "Python 3"
    },
    "language_info": {
      "name": "python"
    }
  },
  "cells": [
    {
      "cell_type": "markdown",
      "metadata": {
        "id": "view-in-github",
        "colab_type": "text"
      },
      "source": [
        "<a href=\"https://colab.research.google.com/github/KARTIKPARATKAR/MACHINE-LEARNING-WORK/blob/main/OverfittingAndUnderfitting.ipynb\" target=\"_parent\"><img src=\"https://colab.research.google.com/assets/colab-badge.svg\" alt=\"Open In Colab\"/></a>"
      ]
    },
    {
      "cell_type": "markdown",
      "source": [
        "***Overfitting-***\n",
        "\n",
        "The model overtrains on the training data.\n",
        "\n",
        "Overfitting happens when a model learns the details and noise in the training dataset to the extent that it negatively impacts the performance of the model.\n",
        "\n",
        "When we have a high training data accuracy and very low test accuracy , we infer that our model is overfitted.\n",
        "\n",
        "\n",
        "\n",
        "Causes for Overfitting:\n",
        "\n",
        "1)Less Data causes overfitting\n",
        "\n",
        "2)If you use more complex model instead of using simpler model with which you can get the output.\n",
        "\n",
        "3)More number of layers in Neural Network.\n",
        "  We have input,hidden and output layers in neural network. If we define more number of hidden layer which is not required then it may cause overfitting.\n",
        "\n",
        "\n",
        "\n",
        "  Preventing Overfitting By--\n",
        "\n",
        "  1)Using more datapoints\n",
        "\n",
        "  2)Reduce the number of layers in the Neural\n",
        "     Network.\n",
        "\n",
        "  3) Early Stopping- It means when the model\n",
        "     strats to overfit,it stops the learning process.\n",
        "\n",
        "  4)Bias-Variance Tradeoff-It is used to find\n",
        "     optimum model for dataset.This is model optimization technique.\n",
        "  \n",
        "  5) Use Dropouts- Some neurons will be turned\n",
        "     off randomly.\n",
        "\n"
      ],
      "metadata": {
        "id": "SBGC4uqR-_L9"
      }
    },
    {
      "cell_type": "markdown",
      "source": [
        "***Underfitting***\n",
        "\n",
        "Underfitting happens when the model does not learn enough from the data.Underfitting occurs when a machine learning model cannot capture the underlying trend of the data.\n",
        "\n",
        "If your training data accuracy is very low then we infer that model has underfitted.\n",
        "\n",
        "\n",
        "Causes of Underfitting:\n",
        "\n",
        "1)Choosing a wrong model.\n",
        "\n",
        "2)Less complexity of the model.\n",
        "\n",
        "3)Less variance but high bias.\n",
        "\n",
        "\n",
        "\n",
        "Prevent Underfitting By-\n",
        "\n",
        "1)Choosing the correct model appropriate for\n",
        "  the problem.\n",
        "\n",
        "2)Increasing the complexity of the model.\n",
        "\n",
        "3)More number of parameters to the model.\n",
        "\n",
        "4)Bias-Variance Tradeoff\n"
      ],
      "metadata": {
        "id": "nS_86-O_H3CK"
      }
    }
  ]
}
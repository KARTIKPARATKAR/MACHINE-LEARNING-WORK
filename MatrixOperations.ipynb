{
  "nbformat": 4,
  "nbformat_minor": 0,
  "metadata": {
    "colab": {
      "provenance": [],
      "authorship_tag": "ABX9TyNotQdnw+7X9RkaH5Lm67XY",
      "include_colab_link": true
    },
    "kernelspec": {
      "name": "python3",
      "display_name": "Python 3"
    },
    "language_info": {
      "name": "python"
    }
  },
  "cells": [
    {
      "cell_type": "markdown",
      "metadata": {
        "id": "view-in-github",
        "colab_type": "text"
      },
      "source": [
        "<a href=\"https://colab.research.google.com/github/KARTIKPARATKAR/MACHINE-LEARNING-WORK/blob/main/MatrixOperations.ipynb\" target=\"_parent\"><img src=\"https://colab.research.google.com/assets/colab-badge.svg\" alt=\"Open In Colab\"/></a>"
      ]
    },
    {
      "cell_type": "code",
      "execution_count": 91,
      "metadata": {
        "id": "72D57vRrQ_rZ"
      },
      "outputs": [],
      "source": [
        "import numpy as np"
      ]
    },
    {
      "cell_type": "markdown",
      "source": [
        "Matrix Addition"
      ],
      "metadata": {
        "id": "7sWz6PVy5gH5"
      }
    },
    {
      "cell_type": "code",
      "source": [
        "#Two matrices can only be added when both the column and rows are same. It means shape should be same.\n",
        "a=np.array([[2,3],[4,5]])\n",
        "b=np.array([[6,7],[1,2]])\n",
        "print(a)\n",
        "print(b)"
      ],
      "metadata": {
        "colab": {
          "base_uri": "https://localhost:8080/"
        },
        "id": "TCh-OwfP5OCf",
        "outputId": "a775ef41-b6cb-4ae3-f647-f9ebf030a0b9"
      },
      "execution_count": 92,
      "outputs": [
        {
          "output_type": "stream",
          "name": "stdout",
          "text": [
            "[[2 3]\n",
            " [4 5]]\n",
            "[[6 7]\n",
            " [1 2]]\n"
          ]
        }
      ]
    },
    {
      "cell_type": "code",
      "source": [
        "a.shape"
      ],
      "metadata": {
        "colab": {
          "base_uri": "https://localhost:8080/"
        },
        "id": "CSZzMImX5089",
        "outputId": "37c1ebaf-7d13-46ad-9d9f-7fbdaaa610ce"
      },
      "execution_count": 97,
      "outputs": [
        {
          "output_type": "execute_result",
          "data": {
            "text/plain": [
              "(2, 2)"
            ]
          },
          "metadata": {},
          "execution_count": 97
        }
      ]
    },
    {
      "cell_type": "code",
      "source": [
        "b.shape"
      ],
      "metadata": {
        "colab": {
          "base_uri": "https://localhost:8080/"
        },
        "id": "oCh6ORAy55Sl",
        "outputId": "6c97a7f2-f9ba-4fc7-f62d-3e3bd49d523b"
      },
      "execution_count": 98,
      "outputs": [
        {
          "output_type": "execute_result",
          "data": {
            "text/plain": [
              "(2, 2)"
            ]
          },
          "metadata": {},
          "execution_count": 98
        }
      ]
    },
    {
      "cell_type": "code",
      "source": [
        "sum = a+b"
      ],
      "metadata": {
        "id": "GYfOXEFX6CPU"
      },
      "execution_count": 99,
      "outputs": []
    },
    {
      "cell_type": "code",
      "source": [
        "print(sum)  #This will print the addition of both the matices"
      ],
      "metadata": {
        "colab": {
          "base_uri": "https://localhost:8080/"
        },
        "id": "zs_AWP926EwY",
        "outputId": "03bbf674-6b34-431e-da95-0582b93e6b3a"
      },
      "execution_count": 102,
      "outputs": [
        {
          "output_type": "stream",
          "name": "stdout",
          "text": [
            "[[ 8 10]\n",
            " [ 5  7]]\n"
          ]
        }
      ]
    },
    {
      "cell_type": "code",
      "source": [
        "c=np.random.randint(10,size=(3,3))\n",
        "d=np.random.randint(20,size=(3,3))\n",
        "print(c)\n",
        "print(d)"
      ],
      "metadata": {
        "colab": {
          "base_uri": "https://localhost:8080/"
        },
        "id": "YD39gXBc6F7r",
        "outputId": "7390de80-c750-4f15-9b30-713643e97a89"
      },
      "execution_count": 103,
      "outputs": [
        {
          "output_type": "stream",
          "name": "stdout",
          "text": [
            "[[4 0 2]\n",
            " [3 3 1]\n",
            " [0 4 9]]\n",
            "[[ 1  9  3]\n",
            " [18 15  2]\n",
            " [ 6  1  5]]\n"
          ]
        }
      ]
    },
    {
      "cell_type": "code",
      "source": [
        "add=np.add(c,d)\n",
        "print(add)"
      ],
      "metadata": {
        "colab": {
          "base_uri": "https://localhost:8080/"
        },
        "id": "vPahKlcH6edz",
        "outputId": "ced7aa9b-7722-4ec8-bf68-2872a7488f9d"
      },
      "execution_count": 104,
      "outputs": [
        {
          "output_type": "stream",
          "name": "stdout",
          "text": [
            "[[ 5  9  5]\n",
            " [21 18  3]\n",
            " [ 6  5 14]]\n"
          ]
        }
      ]
    },
    {
      "cell_type": "markdown",
      "source": [
        "Matrix Subtraction"
      ],
      "metadata": {
        "id": "S8jH2MFl661L"
      }
    },
    {
      "cell_type": "code",
      "source": [
        "p=np.array([[1,2],[3,4]])\n",
        "q=np.array([[1,4],[2,6]])\n",
        "sub=p-q\n",
        "print(sub)"
      ],
      "metadata": {
        "colab": {
          "base_uri": "https://localhost:8080/"
        },
        "id": "nYlqlLLE6nRi",
        "outputId": "b7491b9f-aa02-4235-a14c-e835baddfdb7"
      },
      "execution_count": 106,
      "outputs": [
        {
          "output_type": "stream",
          "name": "stdout",
          "text": [
            "[[ 0 -2]\n",
            " [ 1 -2]]\n"
          ]
        }
      ]
    },
    {
      "cell_type": "code",
      "source": [
        "r=np.array([[1,2,3],[4,5,6]])\n",
        "s=np.array([[0,1,2],[3,4,5]])\n",
        "sub2=np.subtract(r,s)\n",
        "print(sub2)"
      ],
      "metadata": {
        "colab": {
          "base_uri": "https://localhost:8080/"
        },
        "id": "_wSmKFp37Las",
        "outputId": "29fe9246-5219-42fc-f5ba-552d48ddbf99"
      },
      "execution_count": 107,
      "outputs": [
        {
          "output_type": "stream",
          "name": "stdout",
          "text": [
            "[[1 1 1]\n",
            " [1 1 1]]\n"
          ]
        }
      ]
    },
    {
      "cell_type": "markdown",
      "source": [
        "Multiplying a matrix by scalar"
      ],
      "metadata": {
        "id": "CHquKmUF7tJb"
      }
    },
    {
      "cell_type": "code",
      "source": [
        "sca=np.random.randint(10,size=(3,3))\n",
        "z=3\n",
        "print(sca)\n",
        "mul=np.multiply(sca,z)\n",
        "print(mul)"
      ],
      "metadata": {
        "colab": {
          "base_uri": "https://localhost:8080/"
        },
        "id": "z9tixa8x7gSY",
        "outputId": "63b41099-1687-40a2-86c0-90535b3e73a0"
      },
      "execution_count": 111,
      "outputs": [
        {
          "output_type": "stream",
          "name": "stdout",
          "text": [
            "[[1 2 1]\n",
            " [5 8 0]\n",
            " [5 5 1]]\n",
            "[[ 3  6  3]\n",
            " [15 24  0]\n",
            " [15 15  3]]\n"
          ]
        }
      ]
    },
    {
      "cell_type": "code",
      "source": [
        "let=np.array([[1,2,3],[4,5,6]])\n",
        "print(let)\n",
        "num=2\n",
        "pro=let*num\n",
        "print(pro)"
      ],
      "metadata": {
        "colab": {
          "base_uri": "https://localhost:8080/"
        },
        "id": "iRFVlERs76dc",
        "outputId": "146a7bff-08e1-43bb-cc71-0f0ae8bba02d"
      },
      "execution_count": 113,
      "outputs": [
        {
          "output_type": "stream",
          "name": "stdout",
          "text": [
            "[[1 2 3]\n",
            " [4 5 6]]\n",
            "[[ 2  4  6]\n",
            " [ 8 10 12]]\n"
          ]
        }
      ]
    },
    {
      "cell_type": "markdown",
      "source": [
        "Multiplication of two matrices"
      ],
      "metadata": {
        "id": "h6qAv4CN8mrM"
      }
    },
    {
      "cell_type": "code",
      "source": [
        "mat1=np.random.randint(5,size=(3,4))\n",
        "mat2=np.random.randint(5,size=(4,3))\n",
        "print(\"Matrix1\\n\",mat1)\n",
        "print(\"Matrix2\\n\",mat2)"
      ],
      "metadata": {
        "colab": {
          "base_uri": "https://localhost:8080/"
        },
        "id": "SeVFFkIo8eEX",
        "outputId": "e9f20cea-a5bf-4c07-8e72-ddfc4b0da1bc"
      },
      "execution_count": 122,
      "outputs": [
        {
          "output_type": "stream",
          "name": "stdout",
          "text": [
            "Matrix1\n",
            " [[3 2 4 0]\n",
            " [0 4 3 4]\n",
            " [0 0 4 2]]\n",
            "Matrix2\n",
            " [[3 0 1]\n",
            " [3 1 0]\n",
            " [4 3 2]\n",
            " [1 1 0]]\n"
          ]
        }
      ]
    },
    {
      "cell_type": "code",
      "source": [
        "res=np.dot(mat1,mat2)\n",
        "print(res)"
      ],
      "metadata": {
        "colab": {
          "base_uri": "https://localhost:8080/"
        },
        "id": "NnQOwsmI8_r2",
        "outputId": "ae88cb4d-db15-43c4-9d70-1ddc1de88bc9"
      },
      "execution_count": 124,
      "outputs": [
        {
          "output_type": "stream",
          "name": "stdout",
          "text": [
            "[[31 14 11]\n",
            " [28 17  6]\n",
            " [18 14  8]]\n"
          ]
        }
      ]
    },
    {
      "cell_type": "code",
      "source": [],
      "metadata": {
        "id": "060dERzA9ty_"
      },
      "execution_count": null,
      "outputs": []
    }
  ]
}
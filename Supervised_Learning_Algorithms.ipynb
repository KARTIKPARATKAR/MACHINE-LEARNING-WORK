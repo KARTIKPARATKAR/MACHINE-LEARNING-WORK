{
  "nbformat": 4,
  "nbformat_minor": 0,
  "metadata": {
    "colab": {
      "provenance": [],
      "authorship_tag": "ABX9TyN56AydHxq3uuuaDZ3XOtnC",
      "include_colab_link": true
    },
    "kernelspec": {
      "name": "python3",
      "display_name": "Python 3"
    },
    "language_info": {
      "name": "python"
    }
  },
  "cells": [
    {
      "cell_type": "markdown",
      "metadata": {
        "id": "view-in-github",
        "colab_type": "text"
      },
      "source": [
        "<a href=\"https://colab.research.google.com/github/KARTIKPARATKAR/MACHINE-LEARNING-WORK/blob/main/Supervised_Learning_Algorithms.ipynb\" target=\"_parent\"><img src=\"https://colab.research.google.com/assets/colab-badge.svg\" alt=\"Open In Colab\"/></a>"
      ]
    },
    {
      "cell_type": "markdown",
      "source": [
        "**Supervised Learning Models**\n",
        "\n",
        "In supervised learning , the machine learning algorithm learns from the labelled data.\n",
        "Labelled dataset means for each datapoints, it has both input features for learning the ML model and its output value assigned to each input value. It means we already know the output of the data with which we are learning our machine learning model.\n",
        "\n",
        "Eg-We have classification problem of whether image is apple or mango. WHen we learn our ML model with data , that time we already know the which input image is apple and which input image is mango. Such dataset is called as a Labelled Dataset.\n",
        "\n",
        "\n",
        "\n",
        "\n",
        "\n"
      ],
      "metadata": {
        "id": "4M89mP2OPabm"
      }
    },
    {
      "cell_type": "markdown",
      "source": [
        "Two main types of Supervised Machine Learning Algorithm:\n",
        "\n",
        "***Classification Supervised Machine Learning Models - ***\n",
        "\n",
        "It is about predicting a class or discrete values. Eg- Male or Female;True or False;Pass or Fail etc.\n",
        "\n",
        "| **Logistic Regression**| A simple linear model used for binary classification.           |\n",
        "\n",
        "| **Decision Trees**            | Makes hierarchical decisions based on feature splits.           |\n",
        "\n",
        "| **Random Forest**             | Uses multiple decision trees to improve accuracy.               |\n",
        "\n",
        "| **Support Vector Machine (SVM)** | Finds the best boundary between classes using hyperplanes.  |\n",
        "\n",
        "| **k-Nearest Neighbors (k-NN)** | Classifies based on the majority class of k closest data points. |\n",
        "\n",
        "| **Naive Bayes**               | Probabilistic model based on Bayes’ theorem, good for text classification. |\n",
        "\n",
        "| **Neural Networks (MLP, CNN, RNN, etc.)** | Deep learning models used for image and text classification. |\n",
        "\n",
        "| **XGBoost / LightGBM**        | Powerful ensemble models for structured data.                  |"
      ],
      "metadata": {
        "id": "N9sq6iR2Wjx6"
      }
    },
    {
      "cell_type": "markdown",
      "source": [
        "**Regression Machine Learning Models -**\n",
        "\n",
        "It is about predicting a quantity or continuous values. In Regression models we try to predict some discrete values like Temperature,Rainfall in cm, Marks etc.Eg- Salary based on age,experiance and position ; Blood Sugar Level based on Age and Heart Beats.\n",
        "\n",
        "Model\tDescription--\n",
        "\n",
        "\n",
        "Linear Regression------Finds a linear relationship between input and output.\n",
        "\n",
        "Polynomial Regression-----Extends linear regression by adding polynomial terms.\n",
        "\n",
        "Decision Tree Regressor-----Splits data into regions and assigns values to each.\n",
        "\n",
        "Random Forest Regressor-----Uses multiple decision trees to reduce variance.\n",
        "\n",
        "Support Vector Regressor (SVR)-----Finds the best fit using margins (similar to SVM).\n",
        "\n",
        "XGBoost / LightGBM------High-performance gradient boosting models.\n",
        "\n",
        "Neural Networks (MLP, LSTM, etc.)------Used for complex regression tasks.\n"
      ],
      "metadata": {
        "id": "1kSj1dNeTuSA"
      }
    },
    {
      "cell_type": "code",
      "source": [],
      "metadata": {
        "id": "WtlVVjFYOqQg"
      },
      "execution_count": null,
      "outputs": []
    }
  ]
}
{
  "nbformat": 4,
  "nbformat_minor": 0,
  "metadata": {
    "colab": {
      "provenance": [],
      "authorship_tag": "ABX9TyM/8zAYYhiakBDnvjDzDczI",
      "include_colab_link": true
    },
    "kernelspec": {
      "name": "python3",
      "display_name": "Python 3"
    },
    "language_info": {
      "name": "python"
    }
  },
  "cells": [
    {
      "cell_type": "markdown",
      "metadata": {
        "id": "view-in-github",
        "colab_type": "text"
      },
      "source": [
        "<a href=\"https://colab.research.google.com/github/KARTIKPARATKAR/MACHINE-LEARNING-WORK/blob/main/Model_Selection.ipynb\" target=\"_parent\"><img src=\"https://colab.research.google.com/assets/colab-badge.svg\" alt=\"Open In Colab\"/></a>"
      ]
    },
    {
      "cell_type": "markdown",
      "source": [
        "**Model Selection**\n",
        "\n",
        "It means selecting a model which best suits a perticular problem. Selecting a model depends on various factors such as dataset,tasks,nature of the model etc.\n",
        "We have different models like supervised ml model as logistic regression, unsupervised machine learning models like K-Means clustering and Neural-Network models.\n",
        "\n",
        "\n",
        "***Model Selection Based On-***\n",
        "\n",
        "1) Type of Data available-\n",
        "\n",
        "for Image and Videos use -- Convolutional Neural Network(CNN)\n",
        "\n",
        "For Text and Speech data use -- Recurrent Neural Network(RNN)\n",
        "\n",
        "For Numerical Data use -- SVM , Logistic Regression, Decision Trees etc.\n",
        "\n",
        "\n",
        "2) Based on the task we want to perform-\n",
        "\n",
        "For classification tasks--- SVM,Logistic regression,Decision Trees etc.\n",
        "\n",
        "For regression tasks --- Linear Regression, Random Forest, Polynomial Regression etc.\n",
        "\n",
        "For clustering task --- K-Means clustering,hirarchical clustering.\n",
        "\n",
        "\n",
        "***Cross Validation-***\n",
        "\n",
        "It is a technique used in ML to evaluate the performance of a model on unseen data.\n",
        "\n",
        "Cross-validation is generally used for overfitting.\n",
        "\n",
        "Cross-validation is available in sklearn.modelselection library.\n",
        "\n",
        "We load datasets and preprocess it. We define different ml models and then performs cross-validation and compares models. The model with the highest average cross-validation score is usually the best."
      ],
      "metadata": {
        "id": "NLXdNhpnjal3"
      }
    }
  ]
}
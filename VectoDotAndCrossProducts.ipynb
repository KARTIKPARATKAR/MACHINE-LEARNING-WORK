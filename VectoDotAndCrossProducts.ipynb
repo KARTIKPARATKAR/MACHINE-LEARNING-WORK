{
  "nbformat": 4,
  "nbformat_minor": 0,
  "metadata": {
    "colab": {
      "provenance": [],
      "authorship_tag": "ABX9TyMJCUd1dnpX2eXnrKUTK/KB",
      "include_colab_link": true
    },
    "kernelspec": {
      "name": "python3",
      "display_name": "Python 3"
    },
    "language_info": {
      "name": "python"
    }
  },
  "cells": [
    {
      "cell_type": "markdown",
      "metadata": {
        "id": "view-in-github",
        "colab_type": "text"
      },
      "source": [
        "<a href=\"https://colab.research.google.com/github/KARTIKPARATKAR/MACHINE-LEARNING-WORK/blob/main/VectoDotAndCrossProducts.ipynb\" target=\"_parent\"><img src=\"https://colab.research.google.com/assets/colab-badge.svg\" alt=\"Open In Colab\"/></a>"
      ]
    },
    {
      "cell_type": "code",
      "execution_count": 19,
      "metadata": {
        "id": "72D57vRrQ_rZ"
      },
      "outputs": [],
      "source": [
        "import numpy as np"
      ]
    },
    {
      "cell_type": "code",
      "source": [
        "sns.set()    #sets Seaborn's default aesthetic parameters to enhance the style and readability of plots."
      ],
      "metadata": {
        "id": "9O0NGvaXRLJi"
      },
      "execution_count": 35,
      "outputs": []
    },
    {
      "cell_type": "markdown",
      "source": [
        "Dot Product-It will be a scalar"
      ],
      "metadata": {
        "id": "bbsGHvHcbBAp"
      }
    },
    {
      "cell_type": "code",
      "source": [
        "a=np.array([2,3])\n",
        "b=np.array([4,4])\n",
        "adotb=np.dot(a,b)\n",
        "print(adotb)"
      ],
      "metadata": {
        "colab": {
          "base_uri": "https://localhost:8080/"
        },
        "id": "g2Nk6P-Za_n7",
        "outputId": "82bb0eb5-ecad-42c3-904b-dde0db86d7db"
      },
      "execution_count": 36,
      "outputs": [
        {
          "output_type": "stream",
          "name": "stdout",
          "text": [
            "20\n"
          ]
        }
      ]
    },
    {
      "cell_type": "code",
      "source": [
        "c = np.array([40,20,35])\n",
        "d = np.array([53,24,68])\n",
        "cdotd=np.dot(c,d)\n",
        "print(cdotd)"
      ],
      "metadata": {
        "colab": {
          "base_uri": "https://localhost:8080/"
        },
        "id": "J423e9hXbeAf",
        "outputId": "126770b9-a0a7-4f26-fa07-90b3a605c245"
      },
      "execution_count": 37,
      "outputs": [
        {
          "output_type": "stream",
          "name": "stdout",
          "text": [
            "4980\n"
          ]
        }
      ]
    },
    {
      "cell_type": "code",
      "source": [],
      "metadata": {
        "id": "z-lKAMitb1bt"
      },
      "execution_count": null,
      "outputs": []
    },
    {
      "cell_type": "markdown",
      "source": [
        "Cross product-It will be a vector"
      ],
      "metadata": {
        "id": "-LFkZwJhb8YN"
      }
    },
    {
      "cell_type": "code",
      "source": [
        "a=np.array([2,3,6])\n",
        "b=np.array([4,4,3])\n",
        "acrossb=np.cross(a,b)\n",
        "print(acrossb)  #Here observe that the cross product is a vector"
      ],
      "metadata": {
        "colab": {
          "base_uri": "https://localhost:8080/"
        },
        "id": "SPiqhUOacAqA",
        "outputId": "3a6fc855-a6c0-438a-e398-4bdaccb1ba59"
      },
      "execution_count": 39,
      "outputs": [
        {
          "output_type": "stream",
          "name": "stdout",
          "text": [
            "[-15  18  -4]\n"
          ]
        }
      ]
    },
    {
      "cell_type": "markdown",
      "source": [
        "Projection of 'a' vector on 'b' vector"
      ],
      "metadata": {
        "id": "8SBneJPLc0or"
      }
    },
    {
      "cell_type": "code",
      "source": [
        "#Formula to find projection is:\n",
        "#projection of vector a on vector v = [(a.v)/(||v||)**2]*v\n",
        "#Output of projection of one vector on another will be a vector only"
      ],
      "metadata": {
        "id": "cOskUdq9cLNh"
      },
      "execution_count": 40,
      "outputs": []
    },
    {
      "cell_type": "code",
      "source": [
        "a=np.array([2,5])\n",
        "v=np.array([8,-6])\n",
        "pro_a_on_v = (np.dot(a, v) / np.sum(v**2)) * v\n",
        "print(\"Projection is:\",pro_a_on_v)"
      ],
      "metadata": {
        "colab": {
          "base_uri": "https://localhost:8080/"
        },
        "id": "amsGZ8z7d7qX",
        "outputId": "2c8b0142-f6b5-483b-ab5d-99735dcee0af"
      },
      "execution_count": 44,
      "outputs": [
        {
          "output_type": "stream",
          "name": "stdout",
          "text": [
            "Projection is: [-1.12  0.84]\n"
          ]
        }
      ]
    },
    {
      "cell_type": "code",
      "source": [
        "a=np.array([23,52,25])\n",
        "v=np.array([81,-65,15])\n",
        "pro_a_on_v = (np.dot(a, v) / np.sum(v**2)) * v\n",
        "print(\"Projection is:\",pro_a_on_v)"
      ],
      "metadata": {
        "colab": {
          "base_uri": "https://localhost:8080/"
        },
        "id": "Hnix85MHeiCQ",
        "outputId": "de4ce95c-3460-4020-f346-aa7c8487bb0a"
      },
      "execution_count": 45,
      "outputs": [
        {
          "output_type": "stream",
          "name": "stdout",
          "text": [
            "Projection is: [-8.40087186  6.74144038 -1.55571701]\n"
          ]
        }
      ]
    }
  ]
}